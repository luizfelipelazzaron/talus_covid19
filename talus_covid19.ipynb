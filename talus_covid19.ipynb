{
 "cells": [
  {
   "cell_type": "markdown",
   "metadata": {},
   "source": [
    "<img src=\"logo.png\">"
   ]
  },
  {
   "cell_type": "markdown",
   "metadata": {},
   "source": [
    "# Projeto Covid19\n",
    "## Diagnosis of COVID-19 and its clinical spectrum\n",
    "\n"
   ]
  },
  {
   "cell_type": "markdown",
   "metadata": {},
   "source": [
    "<p>Para informações completas, veja o <a href=\"https://www.kaggle.com/dataset/e626783d4672f182e7870b1bbe75fae66bdfb232289da0a61f08c2ceb01cab01\" style=\"text-decoration: none\">problema no Kagle</a>.</p>"
   ]
  },
  {
   "cell_type": "markdown",
   "metadata": {},
   "source": [
    "## Members\n",
    "- Caio\n",
    "- Diego\n",
    "- Enrico\n",
    "- Evandro\n",
    "- Fernando\n",
    "- Thalia\n",
    "- Cicero\n",
    "- Luiz Felipe\n",
    "- Gabriel\n",
    "- Sthepanie\n",
    "- Daniel"
   ]
  },
  {
   "cell_type": "markdown",
   "metadata": {},
   "source": [
    "### Task 1\n",
    "- Predict confirmed COVID-19 cases among suspected cases: \n",
    "<ol>Based on the results of laboratory tests commonly collected for a suspected COVID-19 case during a visit to the emergency room, would it be possible to predict the test result for SARS-Cov-2 (positive/negative)?</ol>"
   ]
  },
  {
   "cell_type": "markdown",
   "metadata": {},
   "source": [
    "### Task 2\n",
    "- Predict confirmed COVID-19 cases among suspected cases: \n",
    "<ol> Predict admission to general ward, semi-intensive unit or intensive care unit among confirmed COVID-19 cases.\n",
    "Based on the results of laboratory tests commonly collected among confirmed COVID-19 cases during a visit to the emergency room, would it be possible to predict which patients will need to be admitted to a general ward, semi-intensive unit or intensive care unit?</ol>"
   ]
  },
  {
   "cell_type": "markdown",
   "metadata": {},
   "source": [
    "### Autoria\n",
    "<p>Caio Emmanuel Soares Rocha</p>\n",
    "<p><a href=\"https://github.com/caioesr\" style=\"text-decoration: none\">Perfil GitHub</a></p>\n",
    "<p><a href=\"https://www.linkedin.com/in/caioesr/\" style=\"text-decoration: none\">Perfil LinkedIn</a></p>\n",
    "\n",
    "<p>Enrico Francesco Damiani</p>\n",
    "<p><a href=\"https://github.com/enricofd\" style=\"text-decoration: none\">Perfil GitHub</a></p>\n",
    "<p><a href=\"https://www.linkedin.com/in/enricofd/\" style=\"text-decoration: none\">Perfil LinkedIn</a></p>"
   ]
  },
  {
   "cell_type": "markdown",
   "metadata": {},
   "source": [
    "<h3>1. Limpeza dos dados</h3>"
   ]
  },
  {
   "cell_type": "code",
   "execution_count": 50,
   "metadata": {},
   "outputs": [],
   "source": [
    "# importando bibliotecas iniciais para fazer a limpeza\n",
    "import pandas as pd\n",
    "import numpy as np"
   ]
  },
  {
   "cell_type": "code",
   "execution_count": 51,
   "metadata": {},
   "outputs": [
    {
     "data": {
      "text/html": [
       "<div>\n",
       "<style scoped>\n",
       "    .dataframe tbody tr th:only-of-type {\n",
       "        vertical-align: middle;\n",
       "    }\n",
       "\n",
       "    .dataframe tbody tr th {\n",
       "        vertical-align: top;\n",
       "    }\n",
       "\n",
       "    .dataframe thead th {\n",
       "        text-align: right;\n",
       "    }\n",
       "</style>\n",
       "<table border=\"1\" class=\"dataframe\">\n",
       "  <thead>\n",
       "    <tr style=\"text-align: right;\">\n",
       "      <th></th>\n",
       "      <th>Patient ID</th>\n",
       "      <th>Patient age quantile</th>\n",
       "      <th>SARS-Cov-2 exam result</th>\n",
       "      <th>Patient addmited to regular ward (1=yes, 0=no)</th>\n",
       "      <th>Patient addmited to semi-intensive unit (1=yes, 0=no)</th>\n",
       "      <th>Patient addmited to intensive care unit (1=yes, 0=no)</th>\n",
       "      <th>Hematocrit</th>\n",
       "      <th>Hemoglobin</th>\n",
       "      <th>Platelets</th>\n",
       "      <th>Mean platelet volume</th>\n",
       "      <th>...</th>\n",
       "      <th>Hb saturation (arterial blood gases)</th>\n",
       "      <th>pCO2 (arterial blood gas analysis)</th>\n",
       "      <th>Base excess (arterial blood gas analysis)</th>\n",
       "      <th>pH (arterial blood gas analysis)</th>\n",
       "      <th>Total CO2 (arterial blood gas analysis)</th>\n",
       "      <th>HCO3 (arterial blood gas analysis)</th>\n",
       "      <th>pO2 (arterial blood gas analysis)</th>\n",
       "      <th>Arteiral Fio2</th>\n",
       "      <th>Phosphor</th>\n",
       "      <th>ctO2 (arterial blood gas analysis)</th>\n",
       "    </tr>\n",
       "  </thead>\n",
       "  <tbody>\n",
       "    <tr>\n",
       "      <td>0</td>\n",
       "      <td>44477f75e8169d2</td>\n",
       "      <td>13</td>\n",
       "      <td>negative</td>\n",
       "      <td>0</td>\n",
       "      <td>0</td>\n",
       "      <td>0</td>\n",
       "      <td>NaN</td>\n",
       "      <td>NaN</td>\n",
       "      <td>NaN</td>\n",
       "      <td>NaN</td>\n",
       "      <td>...</td>\n",
       "      <td>NaN</td>\n",
       "      <td>NaN</td>\n",
       "      <td>NaN</td>\n",
       "      <td>NaN</td>\n",
       "      <td>NaN</td>\n",
       "      <td>NaN</td>\n",
       "      <td>NaN</td>\n",
       "      <td>NaN</td>\n",
       "      <td>NaN</td>\n",
       "      <td>NaN</td>\n",
       "    </tr>\n",
       "    <tr>\n",
       "      <td>1</td>\n",
       "      <td>126e9dd13932f68</td>\n",
       "      <td>17</td>\n",
       "      <td>negative</td>\n",
       "      <td>0</td>\n",
       "      <td>0</td>\n",
       "      <td>0</td>\n",
       "      <td>0.236515</td>\n",
       "      <td>-0.02234</td>\n",
       "      <td>-0.517413</td>\n",
       "      <td>0.010677</td>\n",
       "      <td>...</td>\n",
       "      <td>NaN</td>\n",
       "      <td>NaN</td>\n",
       "      <td>NaN</td>\n",
       "      <td>NaN</td>\n",
       "      <td>NaN</td>\n",
       "      <td>NaN</td>\n",
       "      <td>NaN</td>\n",
       "      <td>NaN</td>\n",
       "      <td>NaN</td>\n",
       "      <td>NaN</td>\n",
       "    </tr>\n",
       "    <tr>\n",
       "      <td>2</td>\n",
       "      <td>a46b4402a0e5696</td>\n",
       "      <td>8</td>\n",
       "      <td>negative</td>\n",
       "      <td>0</td>\n",
       "      <td>0</td>\n",
       "      <td>0</td>\n",
       "      <td>NaN</td>\n",
       "      <td>NaN</td>\n",
       "      <td>NaN</td>\n",
       "      <td>NaN</td>\n",
       "      <td>...</td>\n",
       "      <td>NaN</td>\n",
       "      <td>NaN</td>\n",
       "      <td>NaN</td>\n",
       "      <td>NaN</td>\n",
       "      <td>NaN</td>\n",
       "      <td>NaN</td>\n",
       "      <td>NaN</td>\n",
       "      <td>NaN</td>\n",
       "      <td>NaN</td>\n",
       "      <td>NaN</td>\n",
       "    </tr>\n",
       "    <tr>\n",
       "      <td>3</td>\n",
       "      <td>f7d619a94f97c45</td>\n",
       "      <td>5</td>\n",
       "      <td>negative</td>\n",
       "      <td>0</td>\n",
       "      <td>0</td>\n",
       "      <td>0</td>\n",
       "      <td>NaN</td>\n",
       "      <td>NaN</td>\n",
       "      <td>NaN</td>\n",
       "      <td>NaN</td>\n",
       "      <td>...</td>\n",
       "      <td>NaN</td>\n",
       "      <td>NaN</td>\n",
       "      <td>NaN</td>\n",
       "      <td>NaN</td>\n",
       "      <td>NaN</td>\n",
       "      <td>NaN</td>\n",
       "      <td>NaN</td>\n",
       "      <td>NaN</td>\n",
       "      <td>NaN</td>\n",
       "      <td>NaN</td>\n",
       "    </tr>\n",
       "    <tr>\n",
       "      <td>4</td>\n",
       "      <td>d9e41465789c2b5</td>\n",
       "      <td>15</td>\n",
       "      <td>negative</td>\n",
       "      <td>0</td>\n",
       "      <td>0</td>\n",
       "      <td>0</td>\n",
       "      <td>NaN</td>\n",
       "      <td>NaN</td>\n",
       "      <td>NaN</td>\n",
       "      <td>NaN</td>\n",
       "      <td>...</td>\n",
       "      <td>NaN</td>\n",
       "      <td>NaN</td>\n",
       "      <td>NaN</td>\n",
       "      <td>NaN</td>\n",
       "      <td>NaN</td>\n",
       "      <td>NaN</td>\n",
       "      <td>NaN</td>\n",
       "      <td>NaN</td>\n",
       "      <td>NaN</td>\n",
       "      <td>NaN</td>\n",
       "    </tr>\n",
       "  </tbody>\n",
       "</table>\n",
       "<p>5 rows × 111 columns</p>\n",
       "</div>"
      ],
      "text/plain": [
       "        Patient ID  Patient age quantile SARS-Cov-2 exam result  \\\n",
       "0  44477f75e8169d2                    13               negative   \n",
       "1  126e9dd13932f68                    17               negative   \n",
       "2  a46b4402a0e5696                     8               negative   \n",
       "3  f7d619a94f97c45                     5               negative   \n",
       "4  d9e41465789c2b5                    15               negative   \n",
       "\n",
       "   Patient addmited to regular ward (1=yes, 0=no)  \\\n",
       "0                                               0   \n",
       "1                                               0   \n",
       "2                                               0   \n",
       "3                                               0   \n",
       "4                                               0   \n",
       "\n",
       "   Patient addmited to semi-intensive unit (1=yes, 0=no)  \\\n",
       "0                                                  0       \n",
       "1                                                  0       \n",
       "2                                                  0       \n",
       "3                                                  0       \n",
       "4                                                  0       \n",
       "\n",
       "   Patient addmited to intensive care unit (1=yes, 0=no)  Hematocrit  \\\n",
       "0                                                  0             NaN   \n",
       "1                                                  0        0.236515   \n",
       "2                                                  0             NaN   \n",
       "3                                                  0             NaN   \n",
       "4                                                  0             NaN   \n",
       "\n",
       "   Hemoglobin  Platelets  Mean platelet volume   ...  \\\n",
       "0         NaN        NaN                    NaN  ...   \n",
       "1    -0.02234  -0.517413               0.010677  ...   \n",
       "2         NaN        NaN                    NaN  ...   \n",
       "3         NaN        NaN                    NaN  ...   \n",
       "4         NaN        NaN                    NaN  ...   \n",
       "\n",
       "   Hb saturation (arterial blood gases)  pCO2 (arterial blood gas analysis)  \\\n",
       "0                                   NaN                                 NaN   \n",
       "1                                   NaN                                 NaN   \n",
       "2                                   NaN                                 NaN   \n",
       "3                                   NaN                                 NaN   \n",
       "4                                   NaN                                 NaN   \n",
       "\n",
       "   Base excess (arterial blood gas analysis)  \\\n",
       "0                                        NaN   \n",
       "1                                        NaN   \n",
       "2                                        NaN   \n",
       "3                                        NaN   \n",
       "4                                        NaN   \n",
       "\n",
       "   pH (arterial blood gas analysis)  Total CO2 (arterial blood gas analysis)  \\\n",
       "0                               NaN                                      NaN   \n",
       "1                               NaN                                      NaN   \n",
       "2                               NaN                                      NaN   \n",
       "3                               NaN                                      NaN   \n",
       "4                               NaN                                      NaN   \n",
       "\n",
       "   HCO3 (arterial blood gas analysis)  pO2 (arterial blood gas analysis)  \\\n",
       "0                                 NaN                                NaN   \n",
       "1                                 NaN                                NaN   \n",
       "2                                 NaN                                NaN   \n",
       "3                                 NaN                                NaN   \n",
       "4                                 NaN                                NaN   \n",
       "\n",
       "   Arteiral Fio2  Phosphor  ctO2 (arterial blood gas analysis)  \n",
       "0            NaN       NaN                                 NaN  \n",
       "1            NaN       NaN                                 NaN  \n",
       "2            NaN       NaN                                 NaN  \n",
       "3            NaN       NaN                                 NaN  \n",
       "4            NaN       NaN                                 NaN  \n",
       "\n",
       "[5 rows x 111 columns]"
      ]
     },
     "execution_count": 51,
     "metadata": {},
     "output_type": "execute_result"
    }
   ],
   "source": [
    "# baixando o dataset\n",
    "df = pd.read_excel('dataset.xlsx')\n",
    "df.head()"
   ]
  },
  {
   "cell_type": "markdown",
   "metadata": {},
   "source": [
    "<p>Inicialmente eu tentei ignorar os valores que estão faltando (NaN).</p>\n",
    "<p>Aqui eu vou tentar uma abordagem diferente: vou dar replace nesses valores. O valor que vou imputar será a média dos valores presentes</p>"
   ]
  },
  {
   "cell_type": "code",
   "execution_count": 52,
   "metadata": {},
   "outputs": [
    {
     "data": {
      "text/html": [
       "<div>\n",
       "<style scoped>\n",
       "    .dataframe tbody tr th:only-of-type {\n",
       "        vertical-align: middle;\n",
       "    }\n",
       "\n",
       "    .dataframe tbody tr th {\n",
       "        vertical-align: top;\n",
       "    }\n",
       "\n",
       "    .dataframe thead th {\n",
       "        text-align: right;\n",
       "    }\n",
       "</style>\n",
       "<table border=\"1\" class=\"dataframe\">\n",
       "  <thead>\n",
       "    <tr style=\"text-align: right;\">\n",
       "      <th></th>\n",
       "      <th>Patient ID</th>\n",
       "      <th>Patient age quantile</th>\n",
       "      <th>SARS-Cov-2 exam result</th>\n",
       "      <th>Patient addmited to regular ward (1=yes, 0=no)</th>\n",
       "      <th>Patient addmited to semi-intensive unit (1=yes, 0=no)</th>\n",
       "      <th>Patient addmited to intensive care unit (1=yes, 0=no)</th>\n",
       "      <th>Respiratory Syncytial Virus</th>\n",
       "      <th>Influenza A</th>\n",
       "      <th>Influenza B</th>\n",
       "      <th>Parainfluenza 1</th>\n",
       "      <th>...</th>\n",
       "      <th>Hb saturation (arterial blood gases)</th>\n",
       "      <th>pCO2 (arterial blood gas analysis)</th>\n",
       "      <th>Base excess (arterial blood gas analysis)</th>\n",
       "      <th>pH (arterial blood gas analysis)</th>\n",
       "      <th>Total CO2 (arterial blood gas analysis)</th>\n",
       "      <th>HCO3 (arterial blood gas analysis)</th>\n",
       "      <th>pO2 (arterial blood gas analysis)</th>\n",
       "      <th>Arteiral Fio2</th>\n",
       "      <th>Phosphor</th>\n",
       "      <th>ctO2 (arterial blood gas analysis)</th>\n",
       "    </tr>\n",
       "  </thead>\n",
       "  <tbody>\n",
       "    <tr>\n",
       "      <td>0</td>\n",
       "      <td>44477f75e8169d2</td>\n",
       "      <td>13</td>\n",
       "      <td>negative</td>\n",
       "      <td>0</td>\n",
       "      <td>0</td>\n",
       "      <td>0</td>\n",
       "      <td>NaN</td>\n",
       "      <td>NaN</td>\n",
       "      <td>NaN</td>\n",
       "      <td>NaN</td>\n",
       "      <td>...</td>\n",
       "      <td>0.267769</td>\n",
       "      <td>-0.21208</td>\n",
       "      <td>-0.011817</td>\n",
       "      <td>0.294202</td>\n",
       "      <td>0.077435</td>\n",
       "      <td>0.056332</td>\n",
       "      <td>-0.159955</td>\n",
       "      <td>-0.011744</td>\n",
       "      <td>-0.138182</td>\n",
       "      <td>0.182693</td>\n",
       "    </tr>\n",
       "    <tr>\n",
       "      <td>1</td>\n",
       "      <td>126e9dd13932f68</td>\n",
       "      <td>17</td>\n",
       "      <td>negative</td>\n",
       "      <td>0</td>\n",
       "      <td>0</td>\n",
       "      <td>0</td>\n",
       "      <td>not_detected</td>\n",
       "      <td>not_detected</td>\n",
       "      <td>not_detected</td>\n",
       "      <td>not_detected</td>\n",
       "      <td>...</td>\n",
       "      <td>0.267769</td>\n",
       "      <td>-0.21208</td>\n",
       "      <td>-0.011817</td>\n",
       "      <td>0.294202</td>\n",
       "      <td>0.077435</td>\n",
       "      <td>0.056332</td>\n",
       "      <td>-0.159955</td>\n",
       "      <td>-0.011744</td>\n",
       "      <td>-0.138182</td>\n",
       "      <td>0.182693</td>\n",
       "    </tr>\n",
       "    <tr>\n",
       "      <td>2</td>\n",
       "      <td>a46b4402a0e5696</td>\n",
       "      <td>8</td>\n",
       "      <td>negative</td>\n",
       "      <td>0</td>\n",
       "      <td>0</td>\n",
       "      <td>0</td>\n",
       "      <td>NaN</td>\n",
       "      <td>NaN</td>\n",
       "      <td>NaN</td>\n",
       "      <td>NaN</td>\n",
       "      <td>...</td>\n",
       "      <td>0.267769</td>\n",
       "      <td>-0.21208</td>\n",
       "      <td>-0.011817</td>\n",
       "      <td>0.294202</td>\n",
       "      <td>0.077435</td>\n",
       "      <td>0.056332</td>\n",
       "      <td>-0.159955</td>\n",
       "      <td>-0.011744</td>\n",
       "      <td>-0.138182</td>\n",
       "      <td>0.182693</td>\n",
       "    </tr>\n",
       "    <tr>\n",
       "      <td>3</td>\n",
       "      <td>f7d619a94f97c45</td>\n",
       "      <td>5</td>\n",
       "      <td>negative</td>\n",
       "      <td>0</td>\n",
       "      <td>0</td>\n",
       "      <td>0</td>\n",
       "      <td>NaN</td>\n",
       "      <td>NaN</td>\n",
       "      <td>NaN</td>\n",
       "      <td>NaN</td>\n",
       "      <td>...</td>\n",
       "      <td>0.267769</td>\n",
       "      <td>-0.21208</td>\n",
       "      <td>-0.011817</td>\n",
       "      <td>0.294202</td>\n",
       "      <td>0.077435</td>\n",
       "      <td>0.056332</td>\n",
       "      <td>-0.159955</td>\n",
       "      <td>-0.011744</td>\n",
       "      <td>-0.138182</td>\n",
       "      <td>0.182693</td>\n",
       "    </tr>\n",
       "    <tr>\n",
       "      <td>4</td>\n",
       "      <td>d9e41465789c2b5</td>\n",
       "      <td>15</td>\n",
       "      <td>negative</td>\n",
       "      <td>0</td>\n",
       "      <td>0</td>\n",
       "      <td>0</td>\n",
       "      <td>not_detected</td>\n",
       "      <td>not_detected</td>\n",
       "      <td>not_detected</td>\n",
       "      <td>not_detected</td>\n",
       "      <td>...</td>\n",
       "      <td>0.267769</td>\n",
       "      <td>-0.21208</td>\n",
       "      <td>-0.011817</td>\n",
       "      <td>0.294202</td>\n",
       "      <td>0.077435</td>\n",
       "      <td>0.056332</td>\n",
       "      <td>-0.159955</td>\n",
       "      <td>-0.011744</td>\n",
       "      <td>-0.138182</td>\n",
       "      <td>0.182693</td>\n",
       "    </tr>\n",
       "  </tbody>\n",
       "</table>\n",
       "<p>5 rows × 111 columns</p>\n",
       "</div>"
      ],
      "text/plain": [
       "        Patient ID  Patient age quantile SARS-Cov-2 exam result  \\\n",
       "0  44477f75e8169d2                    13               negative   \n",
       "1  126e9dd13932f68                    17               negative   \n",
       "2  a46b4402a0e5696                     8               negative   \n",
       "3  f7d619a94f97c45                     5               negative   \n",
       "4  d9e41465789c2b5                    15               negative   \n",
       "\n",
       "   Patient addmited to regular ward (1=yes, 0=no)  \\\n",
       "0                                               0   \n",
       "1                                               0   \n",
       "2                                               0   \n",
       "3                                               0   \n",
       "4                                               0   \n",
       "\n",
       "   Patient addmited to semi-intensive unit (1=yes, 0=no)  \\\n",
       "0                                                  0       \n",
       "1                                                  0       \n",
       "2                                                  0       \n",
       "3                                                  0       \n",
       "4                                                  0       \n",
       "\n",
       "   Patient addmited to intensive care unit (1=yes, 0=no)  \\\n",
       "0                                                  0       \n",
       "1                                                  0       \n",
       "2                                                  0       \n",
       "3                                                  0       \n",
       "4                                                  0       \n",
       "\n",
       "  Respiratory Syncytial Virus   Influenza A   Influenza B Parainfluenza 1  \\\n",
       "0                         NaN           NaN           NaN             NaN   \n",
       "1                not_detected  not_detected  not_detected    not_detected   \n",
       "2                         NaN           NaN           NaN             NaN   \n",
       "3                         NaN           NaN           NaN             NaN   \n",
       "4                not_detected  not_detected  not_detected    not_detected   \n",
       "\n",
       "   ... Hb saturation (arterial blood gases)  \\\n",
       "0  ...                             0.267769   \n",
       "1  ...                             0.267769   \n",
       "2  ...                             0.267769   \n",
       "3  ...                             0.267769   \n",
       "4  ...                             0.267769   \n",
       "\n",
       "  pCO2 (arterial blood gas analysis)  \\\n",
       "0                           -0.21208   \n",
       "1                           -0.21208   \n",
       "2                           -0.21208   \n",
       "3                           -0.21208   \n",
       "4                           -0.21208   \n",
       "\n",
       "  Base excess (arterial blood gas analysis) pH (arterial blood gas analysis)  \\\n",
       "0                                 -0.011817                         0.294202   \n",
       "1                                 -0.011817                         0.294202   \n",
       "2                                 -0.011817                         0.294202   \n",
       "3                                 -0.011817                         0.294202   \n",
       "4                                 -0.011817                         0.294202   \n",
       "\n",
       "  Total CO2 (arterial blood gas analysis) HCO3 (arterial blood gas analysis)  \\\n",
       "0                                0.077435                           0.056332   \n",
       "1                                0.077435                           0.056332   \n",
       "2                                0.077435                           0.056332   \n",
       "3                                0.077435                           0.056332   \n",
       "4                                0.077435                           0.056332   \n",
       "\n",
       "  pO2 (arterial blood gas analysis) Arteiral Fio2  Phosphor  \\\n",
       "0                         -0.159955     -0.011744 -0.138182   \n",
       "1                         -0.159955     -0.011744 -0.138182   \n",
       "2                         -0.159955     -0.011744 -0.138182   \n",
       "3                         -0.159955     -0.011744 -0.138182   \n",
       "4                         -0.159955     -0.011744 -0.138182   \n",
       "\n",
       "  ctO2 (arterial blood gas analysis)  \n",
       "0                           0.182693  \n",
       "1                           0.182693  \n",
       "2                           0.182693  \n",
       "3                           0.182693  \n",
       "4                           0.182693  \n",
       "\n",
       "[5 rows x 111 columns]"
      ]
     },
     "execution_count": 52,
     "metadata": {},
     "output_type": "execute_result"
    }
   ],
   "source": [
    "numerics = ['float32', 'float64']\n",
    "df_aux = df.select_dtypes(include=numerics).apply(lambda x: x.fillna(x.median()),axis=0)\n",
    "drop_columns = []\n",
    "for i in df_aux.columns:\n",
    "    drop_columns.append(i)\n",
    "df = df.drop(drop_columns, axis = 1) \n",
    "\n",
    "df = pd.concat([df, df_aux], axis=1, sort=False)\n",
    "df.head()"
   ]
  },
  {
   "cell_type": "markdown",
   "metadata": {},
   "source": [
    "<p>Na minha tentativa anterior eu usei todas as features relacionadas com exames da maneira como elas vieram. Dessa vez, vou seguir umas dicas que consegui e fundir algumas colunas em uma única coluna, agrupando vírus parecidos</p>"
   ]
  },
  {
   "cell_type": "code",
   "execution_count": 53,
   "metadata": {},
   "outputs": [],
   "source": [
    "df['Influenza A'] = np.where(df['Influenza A'] == \"detected\",1,0)\n",
    "df['Influenza B'] = np.where(df['Influenza B'] == \"detected\",1,0)\n",
    "df['Influenza'] = np.where((df['Influenza A'] + df['Influenza B']) >= 1,1,0)\n",
    "df['Parainfluenza 1'] = np.where(df['Parainfluenza 1'] == \"detected\",1,0)\n",
    "df['Parainfluenza 2'] = np.where(df['Parainfluenza 2'] == \"detected\",1,0)\n",
    "df['Parainfluenza 3'] = np.where(df['Parainfluenza 3'] == \"detected\",1,0)\n",
    "df['Parainfluenza 4'] = np.where(df['Parainfluenza 4'] == \"detected\",1,0)\n",
    "df['Parainfluenza'] = np.where((df['Parainfluenza 1']+ df['Parainfluenza 2'] + df['Parainfluenza 3']\n",
    "                                   + df['Parainfluenza 4']) >= 1,1,0)\n",
    "df['Coronavirus229E'] = np.where(df['Coronavirus229E'] == \"detected\",1,0)\n",
    "df['CoronavirusNL63'] = np.where(df['CoronavirusNL63'] == \"detected\",1,0)\n",
    "df['Coronavirus HKU1'] = np.where(df['Coronavirus HKU1'] == \"detected\",1,0)\n",
    "df['CoronavirusOC43'] = np.where(df['CoronavirusOC43'] == \"detected\",1,0)\n",
    "df['Coronavirus'] = np.where((df['Coronavirus HKU1']+ df['Coronavirus229E'] + df['CoronavirusNL63']\n",
    "                              + df['CoronavirusOC43']) >= 1,1,0)\n",
    "df = df.drop(['Influenza A','Influenza B' ,'Parainfluenza 1','Parainfluenza 2','Parainfluenza 3','Parainfluenza 4'\n",
    "             ,'Coronavirus229E','CoronavirusNL63','Coronavirus HKU1','CoronavirusOC43'], axis = 1) "
   ]
  },
  {
   "cell_type": "markdown",
   "metadata": {},
   "source": [
    "<p>Agora eu vou filtrar as features que têm mais de 90% dos dados faltando. E vou simplesmente apagar essas colunas.</p>"
   ]
  },
  {
   "cell_type": "code",
   "execution_count": 54,
   "metadata": {},
   "outputs": [],
   "source": [
    "nan_pct = (df.isna().sum()/len(df))\n",
    "nan_pct = dict(nan_pct)"
   ]
  },
  {
   "cell_type": "code",
   "execution_count": 55,
   "metadata": {},
   "outputs": [],
   "source": [
    "columns_to_drop = []\n",
    "for feature in nan_pct:\n",
    "    if nan_pct[feature] > 0.9:\n",
    "        columns_to_drop.append(feature)\n",
    "df = df.drop(columns_to_drop, axis=1)"
   ]
  },
  {
   "cell_type": "markdown",
   "metadata": {},
   "source": [
    "<p>Por último, vou usar OneHotEncoder para transformar as colunas variáveis binárias</p>"
   ]
  },
  {
   "cell_type": "code",
   "execution_count": 56,
   "metadata": {},
   "outputs": [
    {
     "data": {
      "text/html": [
       "<div>\n",
       "<style scoped>\n",
       "    .dataframe tbody tr th:only-of-type {\n",
       "        vertical-align: middle;\n",
       "    }\n",
       "\n",
       "    .dataframe tbody tr th {\n",
       "        vertical-align: top;\n",
       "    }\n",
       "\n",
       "    .dataframe thead th {\n",
       "        text-align: right;\n",
       "    }\n",
       "</style>\n",
       "<table border=\"1\" class=\"dataframe\">\n",
       "  <thead>\n",
       "    <tr style=\"text-align: right;\">\n",
       "      <th></th>\n",
       "      <th>Patient ID</th>\n",
       "      <th>Patient age quantile_13.0</th>\n",
       "      <th>Patient age quantile_17.0</th>\n",
       "      <th>Patient age quantile_8.0</th>\n",
       "      <th>Patient age quantile_5.0</th>\n",
       "      <th>Patient age quantile_15.0</th>\n",
       "      <th>Patient age quantile_9.0</th>\n",
       "      <th>Patient age quantile_16.0</th>\n",
       "      <th>Patient age quantile_1.0</th>\n",
       "      <th>Patient age quantile_14.0</th>\n",
       "      <th>...</th>\n",
       "      <th>pH (arterial blood gas analysis)</th>\n",
       "      <th>Total CO2 (arterial blood gas analysis)</th>\n",
       "      <th>HCO3 (arterial blood gas analysis)</th>\n",
       "      <th>pO2 (arterial blood gas analysis)</th>\n",
       "      <th>Arteiral Fio2</th>\n",
       "      <th>Phosphor</th>\n",
       "      <th>ctO2 (arterial blood gas analysis)</th>\n",
       "      <th>Influenza</th>\n",
       "      <th>Parainfluenza</th>\n",
       "      <th>Coronavirus</th>\n",
       "    </tr>\n",
       "  </thead>\n",
       "  <tbody>\n",
       "    <tr>\n",
       "      <td>0</td>\n",
       "      <td>44477f75e8169d2</td>\n",
       "      <td>1</td>\n",
       "      <td>0</td>\n",
       "      <td>0</td>\n",
       "      <td>0</td>\n",
       "      <td>0</td>\n",
       "      <td>0</td>\n",
       "      <td>0</td>\n",
       "      <td>0</td>\n",
       "      <td>0</td>\n",
       "      <td>...</td>\n",
       "      <td>0.294202</td>\n",
       "      <td>0.077435</td>\n",
       "      <td>0.056332</td>\n",
       "      <td>-0.159955</td>\n",
       "      <td>-0.011744</td>\n",
       "      <td>-0.138182</td>\n",
       "      <td>0.182693</td>\n",
       "      <td>0</td>\n",
       "      <td>0</td>\n",
       "      <td>0</td>\n",
       "    </tr>\n",
       "    <tr>\n",
       "      <td>1</td>\n",
       "      <td>126e9dd13932f68</td>\n",
       "      <td>0</td>\n",
       "      <td>1</td>\n",
       "      <td>0</td>\n",
       "      <td>0</td>\n",
       "      <td>0</td>\n",
       "      <td>0</td>\n",
       "      <td>0</td>\n",
       "      <td>0</td>\n",
       "      <td>0</td>\n",
       "      <td>...</td>\n",
       "      <td>0.294202</td>\n",
       "      <td>0.077435</td>\n",
       "      <td>0.056332</td>\n",
       "      <td>-0.159955</td>\n",
       "      <td>-0.011744</td>\n",
       "      <td>-0.138182</td>\n",
       "      <td>0.182693</td>\n",
       "      <td>0</td>\n",
       "      <td>0</td>\n",
       "      <td>0</td>\n",
       "    </tr>\n",
       "    <tr>\n",
       "      <td>2</td>\n",
       "      <td>a46b4402a0e5696</td>\n",
       "      <td>0</td>\n",
       "      <td>0</td>\n",
       "      <td>1</td>\n",
       "      <td>0</td>\n",
       "      <td>0</td>\n",
       "      <td>0</td>\n",
       "      <td>0</td>\n",
       "      <td>0</td>\n",
       "      <td>0</td>\n",
       "      <td>...</td>\n",
       "      <td>0.294202</td>\n",
       "      <td>0.077435</td>\n",
       "      <td>0.056332</td>\n",
       "      <td>-0.159955</td>\n",
       "      <td>-0.011744</td>\n",
       "      <td>-0.138182</td>\n",
       "      <td>0.182693</td>\n",
       "      <td>0</td>\n",
       "      <td>0</td>\n",
       "      <td>0</td>\n",
       "    </tr>\n",
       "    <tr>\n",
       "      <td>3</td>\n",
       "      <td>f7d619a94f97c45</td>\n",
       "      <td>0</td>\n",
       "      <td>0</td>\n",
       "      <td>0</td>\n",
       "      <td>1</td>\n",
       "      <td>0</td>\n",
       "      <td>0</td>\n",
       "      <td>0</td>\n",
       "      <td>0</td>\n",
       "      <td>0</td>\n",
       "      <td>...</td>\n",
       "      <td>0.294202</td>\n",
       "      <td>0.077435</td>\n",
       "      <td>0.056332</td>\n",
       "      <td>-0.159955</td>\n",
       "      <td>-0.011744</td>\n",
       "      <td>-0.138182</td>\n",
       "      <td>0.182693</td>\n",
       "      <td>0</td>\n",
       "      <td>0</td>\n",
       "      <td>0</td>\n",
       "    </tr>\n",
       "    <tr>\n",
       "      <td>4</td>\n",
       "      <td>d9e41465789c2b5</td>\n",
       "      <td>0</td>\n",
       "      <td>0</td>\n",
       "      <td>0</td>\n",
       "      <td>0</td>\n",
       "      <td>1</td>\n",
       "      <td>0</td>\n",
       "      <td>0</td>\n",
       "      <td>0</td>\n",
       "      <td>0</td>\n",
       "      <td>...</td>\n",
       "      <td>0.294202</td>\n",
       "      <td>0.077435</td>\n",
       "      <td>0.056332</td>\n",
       "      <td>-0.159955</td>\n",
       "      <td>-0.011744</td>\n",
       "      <td>-0.138182</td>\n",
       "      <td>0.182693</td>\n",
       "      <td>0</td>\n",
       "      <td>0</td>\n",
       "      <td>0</td>\n",
       "    </tr>\n",
       "    <tr>\n",
       "      <td>...</td>\n",
       "      <td>...</td>\n",
       "      <td>...</td>\n",
       "      <td>...</td>\n",
       "      <td>...</td>\n",
       "      <td>...</td>\n",
       "      <td>...</td>\n",
       "      <td>...</td>\n",
       "      <td>...</td>\n",
       "      <td>...</td>\n",
       "      <td>...</td>\n",
       "      <td>...</td>\n",
       "      <td>...</td>\n",
       "      <td>...</td>\n",
       "      <td>...</td>\n",
       "      <td>...</td>\n",
       "      <td>...</td>\n",
       "      <td>...</td>\n",
       "      <td>...</td>\n",
       "      <td>...</td>\n",
       "      <td>...</td>\n",
       "      <td>...</td>\n",
       "    </tr>\n",
       "    <tr>\n",
       "      <td>5639</td>\n",
       "      <td>ae66feb9e4dc3a0</td>\n",
       "      <td>0</td>\n",
       "      <td>0</td>\n",
       "      <td>0</td>\n",
       "      <td>0</td>\n",
       "      <td>0</td>\n",
       "      <td>0</td>\n",
       "      <td>0</td>\n",
       "      <td>0</td>\n",
       "      <td>0</td>\n",
       "      <td>...</td>\n",
       "      <td>0.294202</td>\n",
       "      <td>0.077435</td>\n",
       "      <td>0.056332</td>\n",
       "      <td>-0.159955</td>\n",
       "      <td>-0.011744</td>\n",
       "      <td>-0.138182</td>\n",
       "      <td>0.182693</td>\n",
       "      <td>0</td>\n",
       "      <td>0</td>\n",
       "      <td>0</td>\n",
       "    </tr>\n",
       "    <tr>\n",
       "      <td>5640</td>\n",
       "      <td>517c2834024f3ea</td>\n",
       "      <td>0</td>\n",
       "      <td>1</td>\n",
       "      <td>0</td>\n",
       "      <td>0</td>\n",
       "      <td>0</td>\n",
       "      <td>0</td>\n",
       "      <td>0</td>\n",
       "      <td>0</td>\n",
       "      <td>0</td>\n",
       "      <td>...</td>\n",
       "      <td>0.294202</td>\n",
       "      <td>0.077435</td>\n",
       "      <td>0.056332</td>\n",
       "      <td>-0.159955</td>\n",
       "      <td>-0.011744</td>\n",
       "      <td>-0.138182</td>\n",
       "      <td>0.182693</td>\n",
       "      <td>0</td>\n",
       "      <td>0</td>\n",
       "      <td>0</td>\n",
       "    </tr>\n",
       "    <tr>\n",
       "      <td>5641</td>\n",
       "      <td>5c57d6037fe266d</td>\n",
       "      <td>0</td>\n",
       "      <td>0</td>\n",
       "      <td>0</td>\n",
       "      <td>0</td>\n",
       "      <td>0</td>\n",
       "      <td>0</td>\n",
       "      <td>0</td>\n",
       "      <td>0</td>\n",
       "      <td>0</td>\n",
       "      <td>...</td>\n",
       "      <td>0.294202</td>\n",
       "      <td>0.077435</td>\n",
       "      <td>0.056332</td>\n",
       "      <td>-0.159955</td>\n",
       "      <td>-0.011744</td>\n",
       "      <td>-0.138182</td>\n",
       "      <td>0.182693</td>\n",
       "      <td>0</td>\n",
       "      <td>0</td>\n",
       "      <td>0</td>\n",
       "    </tr>\n",
       "    <tr>\n",
       "      <td>5642</td>\n",
       "      <td>c20c44766f28291</td>\n",
       "      <td>0</td>\n",
       "      <td>0</td>\n",
       "      <td>0</td>\n",
       "      <td>0</td>\n",
       "      <td>0</td>\n",
       "      <td>0</td>\n",
       "      <td>0</td>\n",
       "      <td>0</td>\n",
       "      <td>0</td>\n",
       "      <td>...</td>\n",
       "      <td>0.294202</td>\n",
       "      <td>0.077435</td>\n",
       "      <td>0.056332</td>\n",
       "      <td>-0.159955</td>\n",
       "      <td>-0.011744</td>\n",
       "      <td>-0.138182</td>\n",
       "      <td>0.182693</td>\n",
       "      <td>0</td>\n",
       "      <td>0</td>\n",
       "      <td>0</td>\n",
       "    </tr>\n",
       "    <tr>\n",
       "      <td>5643</td>\n",
       "      <td>2697fdccbfeb7f7</td>\n",
       "      <td>0</td>\n",
       "      <td>0</td>\n",
       "      <td>0</td>\n",
       "      <td>0</td>\n",
       "      <td>0</td>\n",
       "      <td>0</td>\n",
       "      <td>0</td>\n",
       "      <td>0</td>\n",
       "      <td>0</td>\n",
       "      <td>...</td>\n",
       "      <td>0.294202</td>\n",
       "      <td>0.077435</td>\n",
       "      <td>0.056332</td>\n",
       "      <td>-0.159955</td>\n",
       "      <td>-0.011744</td>\n",
       "      <td>-0.138182</td>\n",
       "      <td>0.182693</td>\n",
       "      <td>0</td>\n",
       "      <td>0</td>\n",
       "      <td>0</td>\n",
       "    </tr>\n",
       "  </tbody>\n",
       "</table>\n",
       "<p>5644 rows × 120 columns</p>\n",
       "</div>"
      ],
      "text/plain": [
       "           Patient ID  Patient age quantile_13.0  Patient age quantile_17.0  \\\n",
       "0     44477f75e8169d2                          1                          0   \n",
       "1     126e9dd13932f68                          0                          1   \n",
       "2     a46b4402a0e5696                          0                          0   \n",
       "3     f7d619a94f97c45                          0                          0   \n",
       "4     d9e41465789c2b5                          0                          0   \n",
       "...               ...                        ...                        ...   \n",
       "5639  ae66feb9e4dc3a0                          0                          0   \n",
       "5640  517c2834024f3ea                          0                          1   \n",
       "5641  5c57d6037fe266d                          0                          0   \n",
       "5642  c20c44766f28291                          0                          0   \n",
       "5643  2697fdccbfeb7f7                          0                          0   \n",
       "\n",
       "      Patient age quantile_8.0  Patient age quantile_5.0  \\\n",
       "0                            0                         0   \n",
       "1                            0                         0   \n",
       "2                            1                         0   \n",
       "3                            0                         1   \n",
       "4                            0                         0   \n",
       "...                        ...                       ...   \n",
       "5639                         0                         0   \n",
       "5640                         0                         0   \n",
       "5641                         0                         0   \n",
       "5642                         0                         0   \n",
       "5643                         0                         0   \n",
       "\n",
       "      Patient age quantile_15.0  Patient age quantile_9.0  \\\n",
       "0                             0                         0   \n",
       "1                             0                         0   \n",
       "2                             0                         0   \n",
       "3                             0                         0   \n",
       "4                             1                         0   \n",
       "...                         ...                       ...   \n",
       "5639                          0                         0   \n",
       "5640                          0                         0   \n",
       "5641                          0                         0   \n",
       "5642                          0                         0   \n",
       "5643                          0                         0   \n",
       "\n",
       "      Patient age quantile_16.0  Patient age quantile_1.0  \\\n",
       "0                             0                         0   \n",
       "1                             0                         0   \n",
       "2                             0                         0   \n",
       "3                             0                         0   \n",
       "4                             0                         0   \n",
       "...                         ...                       ...   \n",
       "5639                          0                         0   \n",
       "5640                          0                         0   \n",
       "5641                          0                         0   \n",
       "5642                          0                         0   \n",
       "5643                          0                         0   \n",
       "\n",
       "      Patient age quantile_14.0  ...  pH (arterial blood gas analysis)  \\\n",
       "0                             0  ...                          0.294202   \n",
       "1                             0  ...                          0.294202   \n",
       "2                             0  ...                          0.294202   \n",
       "3                             0  ...                          0.294202   \n",
       "4                             0  ...                          0.294202   \n",
       "...                         ...  ...                               ...   \n",
       "5639                          0  ...                          0.294202   \n",
       "5640                          0  ...                          0.294202   \n",
       "5641                          0  ...                          0.294202   \n",
       "5642                          0  ...                          0.294202   \n",
       "5643                          0  ...                          0.294202   \n",
       "\n",
       "      Total CO2 (arterial blood gas analysis)  \\\n",
       "0                                    0.077435   \n",
       "1                                    0.077435   \n",
       "2                                    0.077435   \n",
       "3                                    0.077435   \n",
       "4                                    0.077435   \n",
       "...                                       ...   \n",
       "5639                                 0.077435   \n",
       "5640                                 0.077435   \n",
       "5641                                 0.077435   \n",
       "5642                                 0.077435   \n",
       "5643                                 0.077435   \n",
       "\n",
       "      HCO3 (arterial blood gas analysis)  pO2 (arterial blood gas analysis)  \\\n",
       "0                               0.056332                          -0.159955   \n",
       "1                               0.056332                          -0.159955   \n",
       "2                               0.056332                          -0.159955   \n",
       "3                               0.056332                          -0.159955   \n",
       "4                               0.056332                          -0.159955   \n",
       "...                                  ...                                ...   \n",
       "5639                            0.056332                          -0.159955   \n",
       "5640                            0.056332                          -0.159955   \n",
       "5641                            0.056332                          -0.159955   \n",
       "5642                            0.056332                          -0.159955   \n",
       "5643                            0.056332                          -0.159955   \n",
       "\n",
       "      Arteiral Fio2  Phosphor  ctO2 (arterial blood gas analysis)  Influenza  \\\n",
       "0         -0.011744 -0.138182                            0.182693          0   \n",
       "1         -0.011744 -0.138182                            0.182693          0   \n",
       "2         -0.011744 -0.138182                            0.182693          0   \n",
       "3         -0.011744 -0.138182                            0.182693          0   \n",
       "4         -0.011744 -0.138182                            0.182693          0   \n",
       "...             ...       ...                                 ...        ...   \n",
       "5639      -0.011744 -0.138182                            0.182693          0   \n",
       "5640      -0.011744 -0.138182                            0.182693          0   \n",
       "5641      -0.011744 -0.138182                            0.182693          0   \n",
       "5642      -0.011744 -0.138182                            0.182693          0   \n",
       "5643      -0.011744 -0.138182                            0.182693          0   \n",
       "\n",
       "      Parainfluenza  Coronavirus  \n",
       "0                 0            0  \n",
       "1                 0            0  \n",
       "2                 0            0  \n",
       "3                 0            0  \n",
       "4                 0            0  \n",
       "...             ...          ...  \n",
       "5639              0            0  \n",
       "5640              0            0  \n",
       "5641              0            0  \n",
       "5642              0            0  \n",
       "5643              0            0  \n",
       "\n",
       "[5644 rows x 120 columns]"
      ]
     },
     "execution_count": 56,
     "metadata": {},
     "output_type": "execute_result"
    }
   ],
   "source": [
    "from category_encoders.one_hot import OneHotEncoder\n",
    "oh = OneHotEncoder(cols= ['Respiratory Syncytial Virus','Rhinovirus/Enterovirus' ,'Chlamydophila pneumoniae'\n",
    "                            ,'Metapneumovirus','Bordetella pertussis','Patient age quantile','Influenza A, rapid test'\n",
    "                            ,'Influenza B, rapid test','Adenovirus','Inf A H1N1 2009'\n",
    "                            ],use_cat_names=True)\n",
    "oh.fit(df)\n",
    "df = oh.transform(df)\n",
    "df = df.replace({'positive':1,'negative':0})\n",
    "df"
   ]
  },
  {
   "cell_type": "markdown",
   "metadata": {},
   "source": [
    "<h3>2. Realizando testes</h3>"
   ]
  },
  {
   "cell_type": "code",
   "execution_count": 57,
   "metadata": {},
   "outputs": [],
   "source": [
    "# criando dataframes de treino e teste\n",
    "from sklearn.model_selection import train_test_split\n",
    "\n",
    "X = df.drop(['Patient ID','SARS-Cov-2 exam result'], axis=1)\n",
    "y = df['SARS-Cov-2 exam result']\n",
    "\n",
    "#20% test e 80% train\n",
    "X_train, X_test, y_train, y_test = train_test_split(X,y,test_size=0.2,random_state=42)"
   ]
  },
  {
   "cell_type": "markdown",
   "metadata": {},
   "source": [
    "<p>Vou usar cinco tipos de modelos aqui:</p>\n",
    "<ul>\n",
    "    <li>Logistic regression;</li>\n",
    "    <li>Support Vector Machine;</li>\n",
    "    <li>Random Forest;</li>\n",
    "    <li>XGboost;</li>\n",
    "    <li>Voting Classifier</li>\n",
    "</ul>"
   ]
  },
  {
   "cell_type": "code",
   "execution_count": 106,
   "metadata": {},
   "outputs": [
    {
     "name": "stdout",
     "output_type": "stream",
     "text": [
      "f1_score_weighted: 0.3787009575316095\n",
      "f1_score_macro: 0.41303104394340623\n",
      "accuracy: 0.46944198405668736\n"
     ]
    }
   ],
   "source": [
    "from sklearn.metrics import f1_score,accuracy_score\n",
    "from sklearn.ensemble import RandomForestClassifier,VotingClassifier\n",
    "from sklearn.svm import SVC\n",
    "from sklearn.linear_model import LogisticRegression\n",
    "\n",
    "rf = RandomForestClassifier(max_depth=5, random_state=42,n_estimators=100,class_weight = 'balanced')\n",
    "rf.fit(X_train,y_train)\n",
    "y_pred_rf = rf.predict(X_test)\n",
    "print('f1_score_weighted:' , f1_score(y_pred_rf,y_test,average='weighted'))\n",
    "print('f1_score_macro:' , f1_score(y_pred_rf,y_test,average='macro'))\n",
    "print('accuracy:' , accuracy_score(y_pred_rf,y_test))"
   ]
  },
  {
   "cell_type": "code",
   "execution_count": 105,
   "metadata": {},
   "outputs": [
    {
     "name": "stdout",
     "output_type": "stream",
     "text": [
      "f1_score_weighted: 0.4544272722936762\n",
      "f1_score_macro: 0.45304555515732686\n",
      "accuracy: 0.5438441098317095\n"
     ]
    }
   ],
   "source": [
    "lr = LogisticRegression(class_weight = 'balanced', solver = 'liblinear',penalty=\"l1\")\n",
    "lr.fit(X_train,y_train)\n",
    "y_pred_lr = lr.predict(X_test)\n",
    "print('f1_score_weighted:' , f1_score(y_pred_lr,y_test,average='weighted'))\n",
    "print('f1_score_macro:' , f1_score(y_pred_lr,y_test,average='macro'))\n",
    "print('accuracy:' , accuracy_score(y_pred_lr,y_test))"
   ]
  },
  {
   "cell_type": "code",
   "execution_count": 104,
   "metadata": {},
   "outputs": [
    {
     "name": "stdout",
     "output_type": "stream",
     "text": [
      "f1_score_weighted: 0.9497674418604651\n",
      "f1_score_macro: 0.47488372093023257\n",
      "accuracy: 0.9043401240035429\n"
     ]
    },
    {
     "name": "stderr",
     "output_type": "stream",
     "text": [
      "C:\\ProgramData\\Anaconda3\\lib\\site-packages\\sklearn\\metrics\\classification.py:1439: UndefinedMetricWarning: F-score is ill-defined and being set to 0.0 in labels with no true samples.\n",
      "  'recall', 'true', average, warn_for)\n"
     ]
    }
   ],
   "source": [
    "svc = SVC(gamma='auto',random_state=42)\n",
    "svc.fit(X_train, y_train)\n",
    "y_pred_svc = svc.predict(X_test)\n",
    "print('f1_score_weighted:' , f1_score(y_pred_svc,y_test,average='weighted'))\n",
    "print('f1_score_macro:' , f1_score(y_pred_svc,y_test,average='macro'))\n",
    "print('accuracy:' , accuracy_score(y_pred_svc,y_test))"
   ]
  },
  {
   "cell_type": "code",
   "execution_count": 103,
   "metadata": {},
   "outputs": [
    {
     "name": "stdout",
     "output_type": "stream",
     "text": [
      "f1_score_weighted: 0.9412223399179727\n",
      "f1_score_macro: 0.5648108957886144\n",
      "accuracy: 0.9096545615589017\n"
     ]
    }
   ],
   "source": [
    "import xgboost as xgb\n",
    "xgboost = xgb.XGBClassifier(learning_rate = 0.2\n",
    "                            ,max_depth = 5\n",
    "                            ,colsample_bytree = 0.9\n",
    "                            ,n_estimators = 100\n",
    "                            ,random_state=42\n",
    "                            ,class_weight='balanced'\n",
    "                           )\n",
    "\n",
    "xgboost.fit(X_train,y_train)\n",
    "y_pred_xg = xgboost.predict(X_test)\n",
    "print('f1_score_weighted:' , f1_score(y_pred_xg,y_test,average='weighted'))\n",
    "print('f1_score_macro:' , f1_score(y_pred_xg,y_test,average='macro'))\n",
    "print('accuracy:' , accuracy_score(y_pred_xg,y_test))"
   ]
  },
  {
   "cell_type": "code",
   "execution_count": 102,
   "metadata": {},
   "outputs": [
    {
     "name": "stdout",
     "output_type": "stream",
     "text": [
      "f1_score_weighted: 0.942412011533486\n",
      "f1_score_macro: 0.5657774985243997\n",
      "accuracy: 0.9105403011514615\n"
     ]
    }
   ],
   "source": [
    "stacking = VotingClassifier(estimators=[\n",
    "    ('rf', rf), ('lr',lr),('xgboost',xgboost),('svc',svc)], voting='hard')\n",
    "stacking.fit(X_train, y_train)\n",
    "y_pred_vc = stacking.predict(X_test)\n",
    "print('f1_score_weighted:' , f1_score(y_pred_vc,y_test,average='weighted'))\n",
    "print('f1_score_macro:' , f1_score(y_pred_vc,y_test,average='macro'))\n",
    "print('accuracy:' , accuracy_score(y_pred_vc,y_test))"
   ]
  },
  {
   "cell_type": "code",
   "execution_count": 76,
   "metadata": {
    "scrolled": true
   },
   "outputs": [
    {
     "name": "stderr",
     "output_type": "stream",
     "text": [
      "C:\\ProgramData\\Anaconda3\\lib\\site-packages\\sklearn\\model_selection\\_search.py:266: UserWarning: The total space of parameters 18 is smaller than n_iter=100. Running 18 iterations. For exhaustive searches, use GridSearchCV.\n",
      "  % (grid_size, self.n_iter, grid_size), UserWarning)\n",
      "[Parallel(n_jobs=1)]: Using backend SequentialBackend with 1 concurrent workers.\n"
     ]
    },
    {
     "name": "stdout",
     "output_type": "stream",
     "text": [
      "Fitting 10 folds for each of 18 candidates, totalling 180 fits\n",
      "[CV] tol=1e-05, solver=lbfgs, n_iter_no_change=10, learning_rate=constant, hidden_layer_sizes=(763, 456, 125, 1022, 114), alpha=1e-05, activation=identity \n",
      "[CV]  tol=1e-05, solver=lbfgs, n_iter_no_change=10, learning_rate=constant, hidden_layer_sizes=(763, 456, 125, 1022, 114), alpha=1e-05, activation=identity, total= 4.8min\n",
      "[CV] tol=1e-05, solver=lbfgs, n_iter_no_change=10, learning_rate=constant, hidden_layer_sizes=(763, 456, 125, 1022, 114), alpha=1e-05, activation=identity \n"
     ]
    },
    {
     "name": "stderr",
     "output_type": "stream",
     "text": [
      "[Parallel(n_jobs=1)]: Done   1 out of   1 | elapsed:  4.8min remaining:    0.0s\n"
     ]
    },
    {
     "name": "stdout",
     "output_type": "stream",
     "text": [
      "[CV]  tol=1e-05, solver=lbfgs, n_iter_no_change=10, learning_rate=constant, hidden_layer_sizes=(763, 456, 125, 1022, 114), alpha=1e-05, activation=identity, total= 4.9min\n",
      "[CV] tol=1e-05, solver=lbfgs, n_iter_no_change=10, learning_rate=constant, hidden_layer_sizes=(763, 456, 125, 1022, 114), alpha=1e-05, activation=identity \n",
      "[CV]  tol=1e-05, solver=lbfgs, n_iter_no_change=10, learning_rate=constant, hidden_layer_sizes=(763, 456, 125, 1022, 114), alpha=1e-05, activation=identity, total= 4.9min\n",
      "[CV] tol=1e-05, solver=lbfgs, n_iter_no_change=10, learning_rate=constant, hidden_layer_sizes=(763, 456, 125, 1022, 114), alpha=1e-05, activation=identity \n",
      "[CV]  tol=1e-05, solver=lbfgs, n_iter_no_change=10, learning_rate=constant, hidden_layer_sizes=(763, 456, 125, 1022, 114), alpha=1e-05, activation=identity, total= 4.8min\n",
      "[CV] tol=1e-05, solver=lbfgs, n_iter_no_change=10, learning_rate=constant, hidden_layer_sizes=(763, 456, 125, 1022, 114), alpha=1e-05, activation=identity \n",
      "[CV]  tol=1e-05, solver=lbfgs, n_iter_no_change=10, learning_rate=constant, hidden_layer_sizes=(763, 456, 125, 1022, 114), alpha=1e-05, activation=identity, total= 4.8min\n",
      "[CV] tol=1e-05, solver=lbfgs, n_iter_no_change=10, learning_rate=constant, hidden_layer_sizes=(763, 456, 125, 1022, 114), alpha=1e-05, activation=identity \n",
      "[CV]  tol=1e-05, solver=lbfgs, n_iter_no_change=10, learning_rate=constant, hidden_layer_sizes=(763, 456, 125, 1022, 114), alpha=1e-05, activation=identity, total= 4.8min\n",
      "[CV] tol=1e-05, solver=lbfgs, n_iter_no_change=10, learning_rate=constant, hidden_layer_sizes=(763, 456, 125, 1022, 114), alpha=1e-05, activation=identity \n",
      "[CV]  tol=1e-05, solver=lbfgs, n_iter_no_change=10, learning_rate=constant, hidden_layer_sizes=(763, 456, 125, 1022, 114), alpha=1e-05, activation=identity, total= 4.8min\n",
      "[CV] tol=1e-05, solver=lbfgs, n_iter_no_change=10, learning_rate=constant, hidden_layer_sizes=(763, 456, 125, 1022, 114), alpha=1e-05, activation=identity \n",
      "[CV]  tol=1e-05, solver=lbfgs, n_iter_no_change=10, learning_rate=constant, hidden_layer_sizes=(763, 456, 125, 1022, 114), alpha=1e-05, activation=identity, total= 4.8min\n",
      "[CV] tol=1e-05, solver=lbfgs, n_iter_no_change=10, learning_rate=constant, hidden_layer_sizes=(763, 456, 125, 1022, 114), alpha=1e-05, activation=identity \n",
      "[CV]  tol=1e-05, solver=lbfgs, n_iter_no_change=10, learning_rate=constant, hidden_layer_sizes=(763, 456, 125, 1022, 114), alpha=1e-05, activation=identity, total= 4.9min\n",
      "[CV] tol=1e-05, solver=lbfgs, n_iter_no_change=10, learning_rate=constant, hidden_layer_sizes=(763, 456, 125, 1022, 114), alpha=1e-05, activation=identity \n",
      "[CV]  tol=1e-05, solver=lbfgs, n_iter_no_change=10, learning_rate=constant, hidden_layer_sizes=(763, 456, 125, 1022, 114), alpha=1e-05, activation=identity, total= 4.9min\n",
      "[CV] tol=1e-05, solver=sgd, n_iter_no_change=10, learning_rate=constant, hidden_layer_sizes=(763, 456, 125, 1022, 114), alpha=1e-05, activation=identity \n",
      "[CV]  tol=1e-05, solver=sgd, n_iter_no_change=10, learning_rate=constant, hidden_layer_sizes=(763, 456, 125, 1022, 114), alpha=1e-05, activation=identity, total= 2.1min\n",
      "[CV] tol=1e-05, solver=sgd, n_iter_no_change=10, learning_rate=constant, hidden_layer_sizes=(763, 456, 125, 1022, 114), alpha=1e-05, activation=identity \n",
      "[CV]  tol=1e-05, solver=sgd, n_iter_no_change=10, learning_rate=constant, hidden_layer_sizes=(763, 456, 125, 1022, 114), alpha=1e-05, activation=identity, total= 2.3min\n",
      "[CV] tol=1e-05, solver=sgd, n_iter_no_change=10, learning_rate=constant, hidden_layer_sizes=(763, 456, 125, 1022, 114), alpha=1e-05, activation=identity \n",
      "[CV]  tol=1e-05, solver=sgd, n_iter_no_change=10, learning_rate=constant, hidden_layer_sizes=(763, 456, 125, 1022, 114), alpha=1e-05, activation=identity, total= 2.6min\n",
      "[CV] tol=1e-05, solver=sgd, n_iter_no_change=10, learning_rate=constant, hidden_layer_sizes=(763, 456, 125, 1022, 114), alpha=1e-05, activation=identity \n",
      "[CV]  tol=1e-05, solver=sgd, n_iter_no_change=10, learning_rate=constant, hidden_layer_sizes=(763, 456, 125, 1022, 114), alpha=1e-05, activation=identity, total= 2.4min\n",
      "[CV] tol=1e-05, solver=sgd, n_iter_no_change=10, learning_rate=constant, hidden_layer_sizes=(763, 456, 125, 1022, 114), alpha=1e-05, activation=identity \n",
      "[CV]  tol=1e-05, solver=sgd, n_iter_no_change=10, learning_rate=constant, hidden_layer_sizes=(763, 456, 125, 1022, 114), alpha=1e-05, activation=identity, total= 2.1min\n",
      "[CV] tol=1e-05, solver=sgd, n_iter_no_change=10, learning_rate=constant, hidden_layer_sizes=(763, 456, 125, 1022, 114), alpha=1e-05, activation=identity \n",
      "[CV]  tol=1e-05, solver=sgd, n_iter_no_change=10, learning_rate=constant, hidden_layer_sizes=(763, 456, 125, 1022, 114), alpha=1e-05, activation=identity, total= 2.0min\n",
      "[CV] tol=1e-05, solver=sgd, n_iter_no_change=10, learning_rate=constant, hidden_layer_sizes=(763, 456, 125, 1022, 114), alpha=1e-05, activation=identity \n",
      "[CV]  tol=1e-05, solver=sgd, n_iter_no_change=10, learning_rate=constant, hidden_layer_sizes=(763, 456, 125, 1022, 114), alpha=1e-05, activation=identity, total= 1.8min\n",
      "[CV] tol=1e-05, solver=sgd, n_iter_no_change=10, learning_rate=constant, hidden_layer_sizes=(763, 456, 125, 1022, 114), alpha=1e-05, activation=identity \n",
      "[CV]  tol=1e-05, solver=sgd, n_iter_no_change=10, learning_rate=constant, hidden_layer_sizes=(763, 456, 125, 1022, 114), alpha=1e-05, activation=identity, total= 2.3min\n",
      "[CV] tol=1e-05, solver=sgd, n_iter_no_change=10, learning_rate=constant, hidden_layer_sizes=(763, 456, 125, 1022, 114), alpha=1e-05, activation=identity \n",
      "[CV]  tol=1e-05, solver=sgd, n_iter_no_change=10, learning_rate=constant, hidden_layer_sizes=(763, 456, 125, 1022, 114), alpha=1e-05, activation=identity, total= 2.1min\n",
      "[CV] tol=1e-05, solver=sgd, n_iter_no_change=10, learning_rate=constant, hidden_layer_sizes=(763, 456, 125, 1022, 114), alpha=1e-05, activation=identity \n",
      "[CV]  tol=1e-05, solver=sgd, n_iter_no_change=10, learning_rate=constant, hidden_layer_sizes=(763, 456, 125, 1022, 114), alpha=1e-05, activation=identity, total= 1.8min\n",
      "[CV] tol=1e-05, solver=adam, n_iter_no_change=10, learning_rate=constant, hidden_layer_sizes=(763, 456, 125, 1022, 114), alpha=1e-05, activation=identity \n",
      "[CV]  tol=1e-05, solver=adam, n_iter_no_change=10, learning_rate=constant, hidden_layer_sizes=(763, 456, 125, 1022, 114), alpha=1e-05, activation=identity, total=  45.5s\n",
      "[CV] tol=1e-05, solver=adam, n_iter_no_change=10, learning_rate=constant, hidden_layer_sizes=(763, 456, 125, 1022, 114), alpha=1e-05, activation=identity \n",
      "[CV]  tol=1e-05, solver=adam, n_iter_no_change=10, learning_rate=constant, hidden_layer_sizes=(763, 456, 125, 1022, 114), alpha=1e-05, activation=identity, total=  21.3s\n",
      "[CV] tol=1e-05, solver=adam, n_iter_no_change=10, learning_rate=constant, hidden_layer_sizes=(763, 456, 125, 1022, 114), alpha=1e-05, activation=identity \n",
      "[CV]  tol=1e-05, solver=adam, n_iter_no_change=10, learning_rate=constant, hidden_layer_sizes=(763, 456, 125, 1022, 114), alpha=1e-05, activation=identity, total=  34.6s\n",
      "[CV] tol=1e-05, solver=adam, n_iter_no_change=10, learning_rate=constant, hidden_layer_sizes=(763, 456, 125, 1022, 114), alpha=1e-05, activation=identity \n",
      "[CV]  tol=1e-05, solver=adam, n_iter_no_change=10, learning_rate=constant, hidden_layer_sizes=(763, 456, 125, 1022, 114), alpha=1e-05, activation=identity, total=  24.9s\n",
      "[CV] tol=1e-05, solver=adam, n_iter_no_change=10, learning_rate=constant, hidden_layer_sizes=(763, 456, 125, 1022, 114), alpha=1e-05, activation=identity \n",
      "[CV]  tol=1e-05, solver=adam, n_iter_no_change=10, learning_rate=constant, hidden_layer_sizes=(763, 456, 125, 1022, 114), alpha=1e-05, activation=identity, total=  57.0s\n",
      "[CV] tol=1e-05, solver=adam, n_iter_no_change=10, learning_rate=constant, hidden_layer_sizes=(763, 456, 125, 1022, 114), alpha=1e-05, activation=identity \n",
      "[CV]  tol=1e-05, solver=adam, n_iter_no_change=10, learning_rate=constant, hidden_layer_sizes=(763, 456, 125, 1022, 114), alpha=1e-05, activation=identity, total=  34.8s\n",
      "[CV] tol=1e-05, solver=adam, n_iter_no_change=10, learning_rate=constant, hidden_layer_sizes=(763, 456, 125, 1022, 114), alpha=1e-05, activation=identity \n",
      "[CV]  tol=1e-05, solver=adam, n_iter_no_change=10, learning_rate=constant, hidden_layer_sizes=(763, 456, 125, 1022, 114), alpha=1e-05, activation=identity, total=  47.9s\n",
      "[CV] tol=1e-05, solver=adam, n_iter_no_change=10, learning_rate=constant, hidden_layer_sizes=(763, 456, 125, 1022, 114), alpha=1e-05, activation=identity \n"
     ]
    },
    {
     "name": "stdout",
     "output_type": "stream",
     "text": [
      "[CV]  tol=1e-05, solver=adam, n_iter_no_change=10, learning_rate=constant, hidden_layer_sizes=(763, 456, 125, 1022, 114), alpha=1e-05, activation=identity, total= 1.4min\n",
      "[CV] tol=1e-05, solver=adam, n_iter_no_change=10, learning_rate=constant, hidden_layer_sizes=(763, 456, 125, 1022, 114), alpha=1e-05, activation=identity \n",
      "[CV]  tol=1e-05, solver=adam, n_iter_no_change=10, learning_rate=constant, hidden_layer_sizes=(763, 456, 125, 1022, 114), alpha=1e-05, activation=identity, total=  32.4s\n",
      "[CV] tol=1e-05, solver=adam, n_iter_no_change=10, learning_rate=constant, hidden_layer_sizes=(763, 456, 125, 1022, 114), alpha=1e-05, activation=identity \n",
      "[CV]  tol=1e-05, solver=adam, n_iter_no_change=10, learning_rate=constant, hidden_layer_sizes=(763, 456, 125, 1022, 114), alpha=1e-05, activation=identity, total=  28.3s\n",
      "[CV] tol=1e-05, solver=lbfgs, n_iter_no_change=10, learning_rate=adaptive, hidden_layer_sizes=(763, 456, 125, 1022, 114), alpha=1e-05, activation=identity \n",
      "[CV]  tol=1e-05, solver=lbfgs, n_iter_no_change=10, learning_rate=adaptive, hidden_layer_sizes=(763, 456, 125, 1022, 114), alpha=1e-05, activation=identity, total= 8.3min\n",
      "[CV] tol=1e-05, solver=lbfgs, n_iter_no_change=10, learning_rate=adaptive, hidden_layer_sizes=(763, 456, 125, 1022, 114), alpha=1e-05, activation=identity \n",
      "[CV]  tol=1e-05, solver=lbfgs, n_iter_no_change=10, learning_rate=adaptive, hidden_layer_sizes=(763, 456, 125, 1022, 114), alpha=1e-05, activation=identity, total= 9.7min\n",
      "[CV] tol=1e-05, solver=lbfgs, n_iter_no_change=10, learning_rate=adaptive, hidden_layer_sizes=(763, 456, 125, 1022, 114), alpha=1e-05, activation=identity \n",
      "[CV]  tol=1e-05, solver=lbfgs, n_iter_no_change=10, learning_rate=adaptive, hidden_layer_sizes=(763, 456, 125, 1022, 114), alpha=1e-05, activation=identity, total= 9.5min\n",
      "[CV] tol=1e-05, solver=lbfgs, n_iter_no_change=10, learning_rate=adaptive, hidden_layer_sizes=(763, 456, 125, 1022, 114), alpha=1e-05, activation=identity \n",
      "[CV]  tol=1e-05, solver=lbfgs, n_iter_no_change=10, learning_rate=adaptive, hidden_layer_sizes=(763, 456, 125, 1022, 114), alpha=1e-05, activation=identity, total= 9.7min\n",
      "[CV] tol=1e-05, solver=lbfgs, n_iter_no_change=10, learning_rate=adaptive, hidden_layer_sizes=(763, 456, 125, 1022, 114), alpha=1e-05, activation=identity \n",
      "[CV]  tol=1e-05, solver=lbfgs, n_iter_no_change=10, learning_rate=adaptive, hidden_layer_sizes=(763, 456, 125, 1022, 114), alpha=1e-05, activation=identity, total= 8.5min\n",
      "[CV] tol=1e-05, solver=lbfgs, n_iter_no_change=10, learning_rate=adaptive, hidden_layer_sizes=(763, 456, 125, 1022, 114), alpha=1e-05, activation=identity \n",
      "[CV]  tol=1e-05, solver=lbfgs, n_iter_no_change=10, learning_rate=adaptive, hidden_layer_sizes=(763, 456, 125, 1022, 114), alpha=1e-05, activation=identity, total= 9.6min\n",
      "[CV] tol=1e-05, solver=lbfgs, n_iter_no_change=10, learning_rate=adaptive, hidden_layer_sizes=(763, 456, 125, 1022, 114), alpha=1e-05, activation=identity \n",
      "[CV]  tol=1e-05, solver=lbfgs, n_iter_no_change=10, learning_rate=adaptive, hidden_layer_sizes=(763, 456, 125, 1022, 114), alpha=1e-05, activation=identity, total= 9.0min\n",
      "[CV] tol=1e-05, solver=lbfgs, n_iter_no_change=10, learning_rate=adaptive, hidden_layer_sizes=(763, 456, 125, 1022, 114), alpha=1e-05, activation=identity \n",
      "[CV]  tol=1e-05, solver=lbfgs, n_iter_no_change=10, learning_rate=adaptive, hidden_layer_sizes=(763, 456, 125, 1022, 114), alpha=1e-05, activation=identity, total= 8.6min\n",
      "[CV] tol=1e-05, solver=lbfgs, n_iter_no_change=10, learning_rate=adaptive, hidden_layer_sizes=(763, 456, 125, 1022, 114), alpha=1e-05, activation=identity \n",
      "[CV]  tol=1e-05, solver=lbfgs, n_iter_no_change=10, learning_rate=adaptive, hidden_layer_sizes=(763, 456, 125, 1022, 114), alpha=1e-05, activation=identity, total= 9.5min\n",
      "[CV] tol=1e-05, solver=lbfgs, n_iter_no_change=10, learning_rate=adaptive, hidden_layer_sizes=(763, 456, 125, 1022, 114), alpha=1e-05, activation=identity \n",
      "[CV]  tol=1e-05, solver=lbfgs, n_iter_no_change=10, learning_rate=adaptive, hidden_layer_sizes=(763, 456, 125, 1022, 114), alpha=1e-05, activation=identity, total= 9.7min\n",
      "[CV] tol=1e-05, solver=sgd, n_iter_no_change=10, learning_rate=adaptive, hidden_layer_sizes=(763, 456, 125, 1022, 114), alpha=1e-05, activation=identity \n",
      "[CV]  tol=1e-05, solver=sgd, n_iter_no_change=10, learning_rate=adaptive, hidden_layer_sizes=(763, 456, 125, 1022, 114), alpha=1e-05, activation=identity, total= 3.9min\n",
      "[CV] tol=1e-05, solver=sgd, n_iter_no_change=10, learning_rate=adaptive, hidden_layer_sizes=(763, 456, 125, 1022, 114), alpha=1e-05, activation=identity \n",
      "[CV]  tol=1e-05, solver=sgd, n_iter_no_change=10, learning_rate=adaptive, hidden_layer_sizes=(763, 456, 125, 1022, 114), alpha=1e-05, activation=identity, total= 3.7min\n",
      "[CV] tol=1e-05, solver=sgd, n_iter_no_change=10, learning_rate=adaptive, hidden_layer_sizes=(763, 456, 125, 1022, 114), alpha=1e-05, activation=identity \n",
      "[CV]  tol=1e-05, solver=sgd, n_iter_no_change=10, learning_rate=adaptive, hidden_layer_sizes=(763, 456, 125, 1022, 114), alpha=1e-05, activation=identity, total= 3.6min\n",
      "[CV] tol=1e-05, solver=sgd, n_iter_no_change=10, learning_rate=adaptive, hidden_layer_sizes=(763, 456, 125, 1022, 114), alpha=1e-05, activation=identity \n",
      "[CV]  tol=1e-05, solver=sgd, n_iter_no_change=10, learning_rate=adaptive, hidden_layer_sizes=(763, 456, 125, 1022, 114), alpha=1e-05, activation=identity, total= 3.6min\n",
      "[CV] tol=1e-05, solver=sgd, n_iter_no_change=10, learning_rate=adaptive, hidden_layer_sizes=(763, 456, 125, 1022, 114), alpha=1e-05, activation=identity \n",
      "[CV]  tol=1e-05, solver=sgd, n_iter_no_change=10, learning_rate=adaptive, hidden_layer_sizes=(763, 456, 125, 1022, 114), alpha=1e-05, activation=identity, total= 3.4min\n",
      "[CV] tol=1e-05, solver=sgd, n_iter_no_change=10, learning_rate=adaptive, hidden_layer_sizes=(763, 456, 125, 1022, 114), alpha=1e-05, activation=identity \n",
      "[CV]  tol=1e-05, solver=sgd, n_iter_no_change=10, learning_rate=adaptive, hidden_layer_sizes=(763, 456, 125, 1022, 114), alpha=1e-05, activation=identity, total= 4.0min\n",
      "[CV] tol=1e-05, solver=sgd, n_iter_no_change=10, learning_rate=adaptive, hidden_layer_sizes=(763, 456, 125, 1022, 114), alpha=1e-05, activation=identity \n",
      "[CV]  tol=1e-05, solver=sgd, n_iter_no_change=10, learning_rate=adaptive, hidden_layer_sizes=(763, 456, 125, 1022, 114), alpha=1e-05, activation=identity, total= 4.3min\n",
      "[CV] tol=1e-05, solver=sgd, n_iter_no_change=10, learning_rate=adaptive, hidden_layer_sizes=(763, 456, 125, 1022, 114), alpha=1e-05, activation=identity \n",
      "[CV]  tol=1e-05, solver=sgd, n_iter_no_change=10, learning_rate=adaptive, hidden_layer_sizes=(763, 456, 125, 1022, 114), alpha=1e-05, activation=identity, total= 3.2min\n",
      "[CV] tol=1e-05, solver=sgd, n_iter_no_change=10, learning_rate=adaptive, hidden_layer_sizes=(763, 456, 125, 1022, 114), alpha=1e-05, activation=identity \n",
      "[CV]  tol=1e-05, solver=sgd, n_iter_no_change=10, learning_rate=adaptive, hidden_layer_sizes=(763, 456, 125, 1022, 114), alpha=1e-05, activation=identity, total= 3.4min\n",
      "[CV] tol=1e-05, solver=sgd, n_iter_no_change=10, learning_rate=adaptive, hidden_layer_sizes=(763, 456, 125, 1022, 114), alpha=1e-05, activation=identity \n",
      "[CV]  tol=1e-05, solver=sgd, n_iter_no_change=10, learning_rate=adaptive, hidden_layer_sizes=(763, 456, 125, 1022, 114), alpha=1e-05, activation=identity, total= 2.9min\n",
      "[CV] tol=1e-05, solver=adam, n_iter_no_change=10, learning_rate=adaptive, hidden_layer_sizes=(763, 456, 125, 1022, 114), alpha=1e-05, activation=identity \n",
      "[CV]  tol=1e-05, solver=adam, n_iter_no_change=10, learning_rate=adaptive, hidden_layer_sizes=(763, 456, 125, 1022, 114), alpha=1e-05, activation=identity, total=  36.9s\n",
      "[CV] tol=1e-05, solver=adam, n_iter_no_change=10, learning_rate=adaptive, hidden_layer_sizes=(763, 456, 125, 1022, 114), alpha=1e-05, activation=identity \n",
      "[CV]  tol=1e-05, solver=adam, n_iter_no_change=10, learning_rate=adaptive, hidden_layer_sizes=(763, 456, 125, 1022, 114), alpha=1e-05, activation=identity, total=  27.8s\n",
      "[CV] tol=1e-05, solver=adam, n_iter_no_change=10, learning_rate=adaptive, hidden_layer_sizes=(763, 456, 125, 1022, 114), alpha=1e-05, activation=identity \n",
      "[CV]  tol=1e-05, solver=adam, n_iter_no_change=10, learning_rate=adaptive, hidden_layer_sizes=(763, 456, 125, 1022, 114), alpha=1e-05, activation=identity, total=  32.6s\n",
      "[CV] tol=1e-05, solver=adam, n_iter_no_change=10, learning_rate=adaptive, hidden_layer_sizes=(763, 456, 125, 1022, 114), alpha=1e-05, activation=identity \n"
     ]
    },
    {
     "name": "stdout",
     "output_type": "stream",
     "text": [
      "[CV]  tol=1e-05, solver=adam, n_iter_no_change=10, learning_rate=adaptive, hidden_layer_sizes=(763, 456, 125, 1022, 114), alpha=1e-05, activation=identity, total=  36.6s\n",
      "[CV] tol=1e-05, solver=adam, n_iter_no_change=10, learning_rate=adaptive, hidden_layer_sizes=(763, 456, 125, 1022, 114), alpha=1e-05, activation=identity \n",
      "[CV]  tol=1e-05, solver=adam, n_iter_no_change=10, learning_rate=adaptive, hidden_layer_sizes=(763, 456, 125, 1022, 114), alpha=1e-05, activation=identity, total=  42.0s\n",
      "[CV] tol=1e-05, solver=adam, n_iter_no_change=10, learning_rate=adaptive, hidden_layer_sizes=(763, 456, 125, 1022, 114), alpha=1e-05, activation=identity \n",
      "[CV]  tol=1e-05, solver=adam, n_iter_no_change=10, learning_rate=adaptive, hidden_layer_sizes=(763, 456, 125, 1022, 114), alpha=1e-05, activation=identity, total=  35.6s\n",
      "[CV] tol=1e-05, solver=adam, n_iter_no_change=10, learning_rate=adaptive, hidden_layer_sizes=(763, 456, 125, 1022, 114), alpha=1e-05, activation=identity \n",
      "[CV]  tol=1e-05, solver=adam, n_iter_no_change=10, learning_rate=adaptive, hidden_layer_sizes=(763, 456, 125, 1022, 114), alpha=1e-05, activation=identity, total=  59.1s\n",
      "[CV] tol=1e-05, solver=adam, n_iter_no_change=10, learning_rate=adaptive, hidden_layer_sizes=(763, 456, 125, 1022, 114), alpha=1e-05, activation=identity \n",
      "[CV]  tol=1e-05, solver=adam, n_iter_no_change=10, learning_rate=adaptive, hidden_layer_sizes=(763, 456, 125, 1022, 114), alpha=1e-05, activation=identity, total=  41.2s\n",
      "[CV] tol=1e-05, solver=adam, n_iter_no_change=10, learning_rate=adaptive, hidden_layer_sizes=(763, 456, 125, 1022, 114), alpha=1e-05, activation=identity \n",
      "[CV]  tol=1e-05, solver=adam, n_iter_no_change=10, learning_rate=adaptive, hidden_layer_sizes=(763, 456, 125, 1022, 114), alpha=1e-05, activation=identity, total=  39.6s\n",
      "[CV] tol=1e-05, solver=adam, n_iter_no_change=10, learning_rate=adaptive, hidden_layer_sizes=(763, 456, 125, 1022, 114), alpha=1e-05, activation=identity \n",
      "[CV]  tol=1e-05, solver=adam, n_iter_no_change=10, learning_rate=adaptive, hidden_layer_sizes=(763, 456, 125, 1022, 114), alpha=1e-05, activation=identity, total=  24.9s\n",
      "[CV] tol=1e-05, solver=lbfgs, n_iter_no_change=10, learning_rate=constant, hidden_layer_sizes=(763, 456, 125, 1022, 114), alpha=1e-05, activation=logistic \n"
     ]
    },
    {
     "name": "stderr",
     "output_type": "stream",
     "text": [
      "C:\\ProgramData\\Anaconda3\\lib\\site-packages\\sklearn\\metrics\\classification.py:1437: UndefinedMetricWarning: F-score is ill-defined and being set to 0.0 in labels with no predicted samples.\n",
      "  'precision', 'predicted', average, warn_for)\n"
     ]
    },
    {
     "name": "stdout",
     "output_type": "stream",
     "text": [
      "[CV]  tol=1e-05, solver=lbfgs, n_iter_no_change=10, learning_rate=constant, hidden_layer_sizes=(763, 456, 125, 1022, 114), alpha=1e-05, activation=logistic, total=   6.7s\n",
      "[CV] tol=1e-05, solver=lbfgs, n_iter_no_change=10, learning_rate=constant, hidden_layer_sizes=(763, 456, 125, 1022, 114), alpha=1e-05, activation=logistic \n"
     ]
    },
    {
     "name": "stderr",
     "output_type": "stream",
     "text": [
      "C:\\ProgramData\\Anaconda3\\lib\\site-packages\\sklearn\\metrics\\classification.py:1437: UndefinedMetricWarning: F-score is ill-defined and being set to 0.0 in labels with no predicted samples.\n",
      "  'precision', 'predicted', average, warn_for)\n"
     ]
    },
    {
     "name": "stdout",
     "output_type": "stream",
     "text": [
      "[CV]  tol=1e-05, solver=lbfgs, n_iter_no_change=10, learning_rate=constant, hidden_layer_sizes=(763, 456, 125, 1022, 114), alpha=1e-05, activation=logistic, total=   6.2s\n",
      "[CV] tol=1e-05, solver=lbfgs, n_iter_no_change=10, learning_rate=constant, hidden_layer_sizes=(763, 456, 125, 1022, 114), alpha=1e-05, activation=logistic \n"
     ]
    },
    {
     "name": "stderr",
     "output_type": "stream",
     "text": [
      "C:\\ProgramData\\Anaconda3\\lib\\site-packages\\sklearn\\metrics\\classification.py:1437: UndefinedMetricWarning: F-score is ill-defined and being set to 0.0 in labels with no predicted samples.\n",
      "  'precision', 'predicted', average, warn_for)\n"
     ]
    },
    {
     "name": "stdout",
     "output_type": "stream",
     "text": [
      "[CV]  tol=1e-05, solver=lbfgs, n_iter_no_change=10, learning_rate=constant, hidden_layer_sizes=(763, 456, 125, 1022, 114), alpha=1e-05, activation=logistic, total=   4.0s\n",
      "[CV] tol=1e-05, solver=lbfgs, n_iter_no_change=10, learning_rate=constant, hidden_layer_sizes=(763, 456, 125, 1022, 114), alpha=1e-05, activation=logistic \n"
     ]
    },
    {
     "name": "stderr",
     "output_type": "stream",
     "text": [
      "C:\\ProgramData\\Anaconda3\\lib\\site-packages\\sklearn\\metrics\\classification.py:1437: UndefinedMetricWarning: F-score is ill-defined and being set to 0.0 in labels with no predicted samples.\n",
      "  'precision', 'predicted', average, warn_for)\n"
     ]
    },
    {
     "name": "stdout",
     "output_type": "stream",
     "text": [
      "[CV]  tol=1e-05, solver=lbfgs, n_iter_no_change=10, learning_rate=constant, hidden_layer_sizes=(763, 456, 125, 1022, 114), alpha=1e-05, activation=logistic, total=   5.8s\n",
      "[CV] tol=1e-05, solver=lbfgs, n_iter_no_change=10, learning_rate=constant, hidden_layer_sizes=(763, 456, 125, 1022, 114), alpha=1e-05, activation=logistic \n"
     ]
    },
    {
     "name": "stderr",
     "output_type": "stream",
     "text": [
      "C:\\ProgramData\\Anaconda3\\lib\\site-packages\\sklearn\\metrics\\classification.py:1437: UndefinedMetricWarning: F-score is ill-defined and being set to 0.0 in labels with no predicted samples.\n",
      "  'precision', 'predicted', average, warn_for)\n"
     ]
    },
    {
     "name": "stdout",
     "output_type": "stream",
     "text": [
      "[CV]  tol=1e-05, solver=lbfgs, n_iter_no_change=10, learning_rate=constant, hidden_layer_sizes=(763, 456, 125, 1022, 114), alpha=1e-05, activation=logistic, total=   4.2s\n",
      "[CV] tol=1e-05, solver=lbfgs, n_iter_no_change=10, learning_rate=constant, hidden_layer_sizes=(763, 456, 125, 1022, 114), alpha=1e-05, activation=logistic \n"
     ]
    },
    {
     "name": "stderr",
     "output_type": "stream",
     "text": [
      "C:\\ProgramData\\Anaconda3\\lib\\site-packages\\sklearn\\metrics\\classification.py:1437: UndefinedMetricWarning: F-score is ill-defined and being set to 0.0 in labels with no predicted samples.\n",
      "  'precision', 'predicted', average, warn_for)\n"
     ]
    },
    {
     "name": "stdout",
     "output_type": "stream",
     "text": [
      "[CV]  tol=1e-05, solver=lbfgs, n_iter_no_change=10, learning_rate=constant, hidden_layer_sizes=(763, 456, 125, 1022, 114), alpha=1e-05, activation=logistic, total=   7.2s\n",
      "[CV] tol=1e-05, solver=lbfgs, n_iter_no_change=10, learning_rate=constant, hidden_layer_sizes=(763, 456, 125, 1022, 114), alpha=1e-05, activation=logistic \n"
     ]
    },
    {
     "name": "stderr",
     "output_type": "stream",
     "text": [
      "C:\\ProgramData\\Anaconda3\\lib\\site-packages\\sklearn\\metrics\\classification.py:1437: UndefinedMetricWarning: F-score is ill-defined and being set to 0.0 in labels with no predicted samples.\n",
      "  'precision', 'predicted', average, warn_for)\n"
     ]
    },
    {
     "name": "stdout",
     "output_type": "stream",
     "text": [
      "[CV]  tol=1e-05, solver=lbfgs, n_iter_no_change=10, learning_rate=constant, hidden_layer_sizes=(763, 456, 125, 1022, 114), alpha=1e-05, activation=logistic, total=   4.3s\n",
      "[CV] tol=1e-05, solver=lbfgs, n_iter_no_change=10, learning_rate=constant, hidden_layer_sizes=(763, 456, 125, 1022, 114), alpha=1e-05, activation=logistic \n"
     ]
    },
    {
     "name": "stderr",
     "output_type": "stream",
     "text": [
      "C:\\ProgramData\\Anaconda3\\lib\\site-packages\\sklearn\\metrics\\classification.py:1437: UndefinedMetricWarning: F-score is ill-defined and being set to 0.0 in labels with no predicted samples.\n",
      "  'precision', 'predicted', average, warn_for)\n"
     ]
    },
    {
     "name": "stdout",
     "output_type": "stream",
     "text": [
      "[CV]  tol=1e-05, solver=lbfgs, n_iter_no_change=10, learning_rate=constant, hidden_layer_sizes=(763, 456, 125, 1022, 114), alpha=1e-05, activation=logistic, total=   4.2s\n",
      "[CV] tol=1e-05, solver=lbfgs, n_iter_no_change=10, learning_rate=constant, hidden_layer_sizes=(763, 456, 125, 1022, 114), alpha=1e-05, activation=logistic \n"
     ]
    },
    {
     "name": "stderr",
     "output_type": "stream",
     "text": [
      "C:\\ProgramData\\Anaconda3\\lib\\site-packages\\sklearn\\metrics\\classification.py:1437: UndefinedMetricWarning: F-score is ill-defined and being set to 0.0 in labels with no predicted samples.\n",
      "  'precision', 'predicted', average, warn_for)\n"
     ]
    },
    {
     "name": "stdout",
     "output_type": "stream",
     "text": [
      "[CV]  tol=1e-05, solver=lbfgs, n_iter_no_change=10, learning_rate=constant, hidden_layer_sizes=(763, 456, 125, 1022, 114), alpha=1e-05, activation=logistic, total=   4.0s\n",
      "[CV] tol=1e-05, solver=lbfgs, n_iter_no_change=10, learning_rate=constant, hidden_layer_sizes=(763, 456, 125, 1022, 114), alpha=1e-05, activation=logistic \n"
     ]
    },
    {
     "name": "stderr",
     "output_type": "stream",
     "text": [
      "C:\\ProgramData\\Anaconda3\\lib\\site-packages\\sklearn\\metrics\\classification.py:1437: UndefinedMetricWarning: F-score is ill-defined and being set to 0.0 in labels with no predicted samples.\n",
      "  'precision', 'predicted', average, warn_for)\n"
     ]
    },
    {
     "name": "stdout",
     "output_type": "stream",
     "text": [
      "[CV]  tol=1e-05, solver=lbfgs, n_iter_no_change=10, learning_rate=constant, hidden_layer_sizes=(763, 456, 125, 1022, 114), alpha=1e-05, activation=logistic, total=   6.7s\n",
      "[CV] tol=1e-05, solver=sgd, n_iter_no_change=10, learning_rate=constant, hidden_layer_sizes=(763, 456, 125, 1022, 114), alpha=1e-05, activation=logistic \n"
     ]
    },
    {
     "name": "stderr",
     "output_type": "stream",
     "text": [
      "C:\\ProgramData\\Anaconda3\\lib\\site-packages\\sklearn\\metrics\\classification.py:1437: UndefinedMetricWarning: F-score is ill-defined and being set to 0.0 in labels with no predicted samples.\n",
      "  'precision', 'predicted', average, warn_for)\n"
     ]
    },
    {
     "name": "stdout",
     "output_type": "stream",
     "text": [
      "[CV]  tol=1e-05, solver=sgd, n_iter_no_change=10, learning_rate=constant, hidden_layer_sizes=(763, 456, 125, 1022, 114), alpha=1e-05, activation=logistic, total=  17.0s\n",
      "[CV] tol=1e-05, solver=sgd, n_iter_no_change=10, learning_rate=constant, hidden_layer_sizes=(763, 456, 125, 1022, 114), alpha=1e-05, activation=logistic \n"
     ]
    },
    {
     "name": "stderr",
     "output_type": "stream",
     "text": [
      "C:\\ProgramData\\Anaconda3\\lib\\site-packages\\sklearn\\metrics\\classification.py:1437: UndefinedMetricWarning: F-score is ill-defined and being set to 0.0 in labels with no predicted samples.\n",
      "  'precision', 'predicted', average, warn_for)\n"
     ]
    },
    {
     "name": "stdout",
     "output_type": "stream",
     "text": [
      "[CV]  tol=1e-05, solver=sgd, n_iter_no_change=10, learning_rate=constant, hidden_layer_sizes=(763, 456, 125, 1022, 114), alpha=1e-05, activation=logistic, total=  16.5s\n",
      "[CV] tol=1e-05, solver=sgd, n_iter_no_change=10, learning_rate=constant, hidden_layer_sizes=(763, 456, 125, 1022, 114), alpha=1e-05, activation=logistic \n"
     ]
    },
    {
     "name": "stderr",
     "output_type": "stream",
     "text": [
      "C:\\ProgramData\\Anaconda3\\lib\\site-packages\\sklearn\\metrics\\classification.py:1437: UndefinedMetricWarning: F-score is ill-defined and being set to 0.0 in labels with no predicted samples.\n",
      "  'precision', 'predicted', average, warn_for)\n"
     ]
    },
    {
     "name": "stdout",
     "output_type": "stream",
     "text": [
      "[CV]  tol=1e-05, solver=sgd, n_iter_no_change=10, learning_rate=constant, hidden_layer_sizes=(763, 456, 125, 1022, 114), alpha=1e-05, activation=logistic, total=  25.4s\n",
      "[CV] tol=1e-05, solver=sgd, n_iter_no_change=10, learning_rate=constant, hidden_layer_sizes=(763, 456, 125, 1022, 114), alpha=1e-05, activation=logistic \n"
     ]
    },
    {
     "name": "stderr",
     "output_type": "stream",
     "text": [
      "C:\\ProgramData\\Anaconda3\\lib\\site-packages\\sklearn\\metrics\\classification.py:1437: UndefinedMetricWarning: F-score is ill-defined and being set to 0.0 in labels with no predicted samples.\n",
      "  'precision', 'predicted', average, warn_for)\n"
     ]
    },
    {
     "name": "stdout",
     "output_type": "stream",
     "text": [
      "[CV]  tol=1e-05, solver=sgd, n_iter_no_change=10, learning_rate=constant, hidden_layer_sizes=(763, 456, 125, 1022, 114), alpha=1e-05, activation=logistic, total=  21.8s\n",
      "[CV] tol=1e-05, solver=sgd, n_iter_no_change=10, learning_rate=constant, hidden_layer_sizes=(763, 456, 125, 1022, 114), alpha=1e-05, activation=logistic \n"
     ]
    },
    {
     "name": "stderr",
     "output_type": "stream",
     "text": [
      "C:\\ProgramData\\Anaconda3\\lib\\site-packages\\sklearn\\metrics\\classification.py:1437: UndefinedMetricWarning: F-score is ill-defined and being set to 0.0 in labels with no predicted samples.\n",
      "  'precision', 'predicted', average, warn_for)\n"
     ]
    },
    {
     "name": "stdout",
     "output_type": "stream",
     "text": [
      "[CV]  tol=1e-05, solver=sgd, n_iter_no_change=10, learning_rate=constant, hidden_layer_sizes=(763, 456, 125, 1022, 114), alpha=1e-05, activation=logistic, total=  17.4s\n",
      "[CV] tol=1e-05, solver=sgd, n_iter_no_change=10, learning_rate=constant, hidden_layer_sizes=(763, 456, 125, 1022, 114), alpha=1e-05, activation=logistic \n"
     ]
    },
    {
     "name": "stderr",
     "output_type": "stream",
     "text": [
      "C:\\ProgramData\\Anaconda3\\lib\\site-packages\\sklearn\\metrics\\classification.py:1437: UndefinedMetricWarning: F-score is ill-defined and being set to 0.0 in labels with no predicted samples.\n",
      "  'precision', 'predicted', average, warn_for)\n"
     ]
    },
    {
     "name": "stdout",
     "output_type": "stream",
     "text": [
      "[CV]  tol=1e-05, solver=sgd, n_iter_no_change=10, learning_rate=constant, hidden_layer_sizes=(763, 456, 125, 1022, 114), alpha=1e-05, activation=logistic, total=  22.1s\n",
      "[CV] tol=1e-05, solver=sgd, n_iter_no_change=10, learning_rate=constant, hidden_layer_sizes=(763, 456, 125, 1022, 114), alpha=1e-05, activation=logistic \n"
     ]
    },
    {
     "name": "stderr",
     "output_type": "stream",
     "text": [
      "C:\\ProgramData\\Anaconda3\\lib\\site-packages\\sklearn\\metrics\\classification.py:1437: UndefinedMetricWarning: F-score is ill-defined and being set to 0.0 in labels with no predicted samples.\n",
      "  'precision', 'predicted', average, warn_for)\n"
     ]
    },
    {
     "name": "stdout",
     "output_type": "stream",
     "text": [
      "[CV]  tol=1e-05, solver=sgd, n_iter_no_change=10, learning_rate=constant, hidden_layer_sizes=(763, 456, 125, 1022, 114), alpha=1e-05, activation=logistic, total=  13.5s\n",
      "[CV] tol=1e-05, solver=sgd, n_iter_no_change=10, learning_rate=constant, hidden_layer_sizes=(763, 456, 125, 1022, 114), alpha=1e-05, activation=logistic \n"
     ]
    },
    {
     "name": "stderr",
     "output_type": "stream",
     "text": [
      "C:\\ProgramData\\Anaconda3\\lib\\site-packages\\sklearn\\metrics\\classification.py:1437: UndefinedMetricWarning: F-score is ill-defined and being set to 0.0 in labels with no predicted samples.\n",
      "  'precision', 'predicted', average, warn_for)\n"
     ]
    },
    {
     "name": "stdout",
     "output_type": "stream",
     "text": [
      "[CV]  tol=1e-05, solver=sgd, n_iter_no_change=10, learning_rate=constant, hidden_layer_sizes=(763, 456, 125, 1022, 114), alpha=1e-05, activation=logistic, total=  16.3s\n",
      "[CV] tol=1e-05, solver=sgd, n_iter_no_change=10, learning_rate=constant, hidden_layer_sizes=(763, 456, 125, 1022, 114), alpha=1e-05, activation=logistic \n"
     ]
    },
    {
     "name": "stderr",
     "output_type": "stream",
     "text": [
      "C:\\ProgramData\\Anaconda3\\lib\\site-packages\\sklearn\\metrics\\classification.py:1437: UndefinedMetricWarning: F-score is ill-defined and being set to 0.0 in labels with no predicted samples.\n",
      "  'precision', 'predicted', average, warn_for)\n"
     ]
    },
    {
     "name": "stdout",
     "output_type": "stream",
     "text": [
      "[CV]  tol=1e-05, solver=sgd, n_iter_no_change=10, learning_rate=constant, hidden_layer_sizes=(763, 456, 125, 1022, 114), alpha=1e-05, activation=logistic, total=  13.6s\n",
      "[CV] tol=1e-05, solver=sgd, n_iter_no_change=10, learning_rate=constant, hidden_layer_sizes=(763, 456, 125, 1022, 114), alpha=1e-05, activation=logistic \n"
     ]
    },
    {
     "name": "stderr",
     "output_type": "stream",
     "text": [
      "C:\\ProgramData\\Anaconda3\\lib\\site-packages\\sklearn\\metrics\\classification.py:1437: UndefinedMetricWarning: F-score is ill-defined and being set to 0.0 in labels with no predicted samples.\n",
      "  'precision', 'predicted', average, warn_for)\n"
     ]
    },
    {
     "name": "stdout",
     "output_type": "stream",
     "text": [
      "[CV]  tol=1e-05, solver=sgd, n_iter_no_change=10, learning_rate=constant, hidden_layer_sizes=(763, 456, 125, 1022, 114), alpha=1e-05, activation=logistic, total=  19.1s\n",
      "[CV] tol=1e-05, solver=adam, n_iter_no_change=10, learning_rate=constant, hidden_layer_sizes=(763, 456, 125, 1022, 114), alpha=1e-05, activation=logistic \n",
      "[CV]  tol=1e-05, solver=adam, n_iter_no_change=10, learning_rate=constant, hidden_layer_sizes=(763, 456, 125, 1022, 114), alpha=1e-05, activation=logistic, total= 1.8min\n",
      "[CV] tol=1e-05, solver=adam, n_iter_no_change=10, learning_rate=constant, hidden_layer_sizes=(763, 456, 125, 1022, 114), alpha=1e-05, activation=logistic \n",
      "[CV]  tol=1e-05, solver=adam, n_iter_no_change=10, learning_rate=constant, hidden_layer_sizes=(763, 456, 125, 1022, 114), alpha=1e-05, activation=logistic, total= 1.6min\n",
      "[CV] tol=1e-05, solver=adam, n_iter_no_change=10, learning_rate=constant, hidden_layer_sizes=(763, 456, 125, 1022, 114), alpha=1e-05, activation=logistic \n",
      "[CV]  tol=1e-05, solver=adam, n_iter_no_change=10, learning_rate=constant, hidden_layer_sizes=(763, 456, 125, 1022, 114), alpha=1e-05, activation=logistic, total= 2.1min\n",
      "[CV] tol=1e-05, solver=adam, n_iter_no_change=10, learning_rate=constant, hidden_layer_sizes=(763, 456, 125, 1022, 114), alpha=1e-05, activation=logistic \n"
     ]
    },
    {
     "name": "stderr",
     "output_type": "stream",
     "text": [
      "C:\\ProgramData\\Anaconda3\\lib\\site-packages\\sklearn\\metrics\\classification.py:1437: UndefinedMetricWarning: F-score is ill-defined and being set to 0.0 in labels with no predicted samples.\n",
      "  'precision', 'predicted', average, warn_for)\n"
     ]
    },
    {
     "name": "stdout",
     "output_type": "stream",
     "text": [
      "[CV]  tol=1e-05, solver=adam, n_iter_no_change=10, learning_rate=constant, hidden_layer_sizes=(763, 456, 125, 1022, 114), alpha=1e-05, activation=logistic, total=  23.3s\n",
      "[CV] tol=1e-05, solver=adam, n_iter_no_change=10, learning_rate=constant, hidden_layer_sizes=(763, 456, 125, 1022, 114), alpha=1e-05, activation=logistic \n",
      "[CV]  tol=1e-05, solver=adam, n_iter_no_change=10, learning_rate=constant, hidden_layer_sizes=(763, 456, 125, 1022, 114), alpha=1e-05, activation=logistic, total= 1.8min\n",
      "[CV] tol=1e-05, solver=adam, n_iter_no_change=10, learning_rate=constant, hidden_layer_sizes=(763, 456, 125, 1022, 114), alpha=1e-05, activation=logistic \n",
      "[CV]  tol=1e-05, solver=adam, n_iter_no_change=10, learning_rate=constant, hidden_layer_sizes=(763, 456, 125, 1022, 114), alpha=1e-05, activation=logistic, total= 2.2min\n",
      "[CV] tol=1e-05, solver=adam, n_iter_no_change=10, learning_rate=constant, hidden_layer_sizes=(763, 456, 125, 1022, 114), alpha=1e-05, activation=logistic \n",
      "[CV]  tol=1e-05, solver=adam, n_iter_no_change=10, learning_rate=constant, hidden_layer_sizes=(763, 456, 125, 1022, 114), alpha=1e-05, activation=logistic, total= 2.0min\n",
      "[CV] tol=1e-05, solver=adam, n_iter_no_change=10, learning_rate=constant, hidden_layer_sizes=(763, 456, 125, 1022, 114), alpha=1e-05, activation=logistic \n",
      "[CV]  tol=1e-05, solver=adam, n_iter_no_change=10, learning_rate=constant, hidden_layer_sizes=(763, 456, 125, 1022, 114), alpha=1e-05, activation=logistic, total= 2.7min\n",
      "[CV] tol=1e-05, solver=adam, n_iter_no_change=10, learning_rate=constant, hidden_layer_sizes=(763, 456, 125, 1022, 114), alpha=1e-05, activation=logistic \n"
     ]
    },
    {
     "name": "stderr",
     "output_type": "stream",
     "text": [
      "C:\\ProgramData\\Anaconda3\\lib\\site-packages\\sklearn\\metrics\\classification.py:1437: UndefinedMetricWarning: F-score is ill-defined and being set to 0.0 in labels with no predicted samples.\n",
      "  'precision', 'predicted', average, warn_for)\n"
     ]
    },
    {
     "name": "stdout",
     "output_type": "stream",
     "text": [
      "[CV]  tol=1e-05, solver=adam, n_iter_no_change=10, learning_rate=constant, hidden_layer_sizes=(763, 456, 125, 1022, 114), alpha=1e-05, activation=logistic, total=  23.8s\n",
      "[CV] tol=1e-05, solver=adam, n_iter_no_change=10, learning_rate=constant, hidden_layer_sizes=(763, 456, 125, 1022, 114), alpha=1e-05, activation=logistic \n",
      "[CV]  tol=1e-05, solver=adam, n_iter_no_change=10, learning_rate=constant, hidden_layer_sizes=(763, 456, 125, 1022, 114), alpha=1e-05, activation=logistic, total= 1.7min\n",
      "[CV] tol=1e-05, solver=lbfgs, n_iter_no_change=10, learning_rate=adaptive, hidden_layer_sizes=(763, 456, 125, 1022, 114), alpha=1e-05, activation=logistic \n"
     ]
    },
    {
     "name": "stderr",
     "output_type": "stream",
     "text": [
      "C:\\ProgramData\\Anaconda3\\lib\\site-packages\\sklearn\\metrics\\classification.py:1437: UndefinedMetricWarning: F-score is ill-defined and being set to 0.0 in labels with no predicted samples.\n",
      "  'precision', 'predicted', average, warn_for)\n"
     ]
    },
    {
     "name": "stdout",
     "output_type": "stream",
     "text": [
      "[CV]  tol=1e-05, solver=lbfgs, n_iter_no_change=10, learning_rate=adaptive, hidden_layer_sizes=(763, 456, 125, 1022, 114), alpha=1e-05, activation=logistic, total=   7.7s\n",
      "[CV] tol=1e-05, solver=lbfgs, n_iter_no_change=10, learning_rate=adaptive, hidden_layer_sizes=(763, 456, 125, 1022, 114), alpha=1e-05, activation=logistic \n"
     ]
    },
    {
     "name": "stderr",
     "output_type": "stream",
     "text": [
      "C:\\ProgramData\\Anaconda3\\lib\\site-packages\\sklearn\\metrics\\classification.py:1437: UndefinedMetricWarning: F-score is ill-defined and being set to 0.0 in labels with no predicted samples.\n",
      "  'precision', 'predicted', average, warn_for)\n"
     ]
    },
    {
     "name": "stdout",
     "output_type": "stream",
     "text": [
      "[CV]  tol=1e-05, solver=lbfgs, n_iter_no_change=10, learning_rate=adaptive, hidden_layer_sizes=(763, 456, 125, 1022, 114), alpha=1e-05, activation=logistic, total=   9.5s\n",
      "[CV] tol=1e-05, solver=lbfgs, n_iter_no_change=10, learning_rate=adaptive, hidden_layer_sizes=(763, 456, 125, 1022, 114), alpha=1e-05, activation=logistic \n"
     ]
    },
    {
     "name": "stderr",
     "output_type": "stream",
     "text": [
      "C:\\ProgramData\\Anaconda3\\lib\\site-packages\\sklearn\\metrics\\classification.py:1437: UndefinedMetricWarning: F-score is ill-defined and being set to 0.0 in labels with no predicted samples.\n",
      "  'precision', 'predicted', average, warn_for)\n"
     ]
    },
    {
     "name": "stdout",
     "output_type": "stream",
     "text": [
      "[CV]  tol=1e-05, solver=lbfgs, n_iter_no_change=10, learning_rate=adaptive, hidden_layer_sizes=(763, 456, 125, 1022, 114), alpha=1e-05, activation=logistic, total=   4.9s\n",
      "[CV] tol=1e-05, solver=lbfgs, n_iter_no_change=10, learning_rate=adaptive, hidden_layer_sizes=(763, 456, 125, 1022, 114), alpha=1e-05, activation=logistic \n"
     ]
    },
    {
     "name": "stderr",
     "output_type": "stream",
     "text": [
      "C:\\ProgramData\\Anaconda3\\lib\\site-packages\\sklearn\\metrics\\classification.py:1437: UndefinedMetricWarning: F-score is ill-defined and being set to 0.0 in labels with no predicted samples.\n",
      "  'precision', 'predicted', average, warn_for)\n"
     ]
    },
    {
     "name": "stdout",
     "output_type": "stream",
     "text": [
      "[CV]  tol=1e-05, solver=lbfgs, n_iter_no_change=10, learning_rate=adaptive, hidden_layer_sizes=(763, 456, 125, 1022, 114), alpha=1e-05, activation=logistic, total=   8.1s\n",
      "[CV] tol=1e-05, solver=lbfgs, n_iter_no_change=10, learning_rate=adaptive, hidden_layer_sizes=(763, 456, 125, 1022, 114), alpha=1e-05, activation=logistic \n"
     ]
    },
    {
     "name": "stderr",
     "output_type": "stream",
     "text": [
      "C:\\ProgramData\\Anaconda3\\lib\\site-packages\\sklearn\\metrics\\classification.py:1437: UndefinedMetricWarning: F-score is ill-defined and being set to 0.0 in labels with no predicted samples.\n",
      "  'precision', 'predicted', average, warn_for)\n"
     ]
    },
    {
     "name": "stdout",
     "output_type": "stream",
     "text": [
      "[CV]  tol=1e-05, solver=lbfgs, n_iter_no_change=10, learning_rate=adaptive, hidden_layer_sizes=(763, 456, 125, 1022, 114), alpha=1e-05, activation=logistic, total=   5.0s\n",
      "[CV] tol=1e-05, solver=lbfgs, n_iter_no_change=10, learning_rate=adaptive, hidden_layer_sizes=(763, 456, 125, 1022, 114), alpha=1e-05, activation=logistic \n"
     ]
    },
    {
     "name": "stderr",
     "output_type": "stream",
     "text": [
      "C:\\ProgramData\\Anaconda3\\lib\\site-packages\\sklearn\\metrics\\classification.py:1437: UndefinedMetricWarning: F-score is ill-defined and being set to 0.0 in labels with no predicted samples.\n",
      "  'precision', 'predicted', average, warn_for)\n"
     ]
    },
    {
     "name": "stdout",
     "output_type": "stream",
     "text": [
      "[CV]  tol=1e-05, solver=lbfgs, n_iter_no_change=10, learning_rate=adaptive, hidden_layer_sizes=(763, 456, 125, 1022, 114), alpha=1e-05, activation=logistic, total=   8.7s\n",
      "[CV] tol=1e-05, solver=lbfgs, n_iter_no_change=10, learning_rate=adaptive, hidden_layer_sizes=(763, 456, 125, 1022, 114), alpha=1e-05, activation=logistic \n"
     ]
    },
    {
     "name": "stderr",
     "output_type": "stream",
     "text": [
      "C:\\ProgramData\\Anaconda3\\lib\\site-packages\\sklearn\\metrics\\classification.py:1437: UndefinedMetricWarning: F-score is ill-defined and being set to 0.0 in labels with no predicted samples.\n",
      "  'precision', 'predicted', average, warn_for)\n"
     ]
    },
    {
     "name": "stdout",
     "output_type": "stream",
     "text": [
      "[CV]  tol=1e-05, solver=lbfgs, n_iter_no_change=10, learning_rate=adaptive, hidden_layer_sizes=(763, 456, 125, 1022, 114), alpha=1e-05, activation=logistic, total=   6.4s\n",
      "[CV] tol=1e-05, solver=lbfgs, n_iter_no_change=10, learning_rate=adaptive, hidden_layer_sizes=(763, 456, 125, 1022, 114), alpha=1e-05, activation=logistic \n"
     ]
    },
    {
     "name": "stderr",
     "output_type": "stream",
     "text": [
      "C:\\ProgramData\\Anaconda3\\lib\\site-packages\\sklearn\\metrics\\classification.py:1437: UndefinedMetricWarning: F-score is ill-defined and being set to 0.0 in labels with no predicted samples.\n",
      "  'precision', 'predicted', average, warn_for)\n"
     ]
    },
    {
     "name": "stdout",
     "output_type": "stream",
     "text": [
      "[CV]  tol=1e-05, solver=lbfgs, n_iter_no_change=10, learning_rate=adaptive, hidden_layer_sizes=(763, 456, 125, 1022, 114), alpha=1e-05, activation=logistic, total=   4.7s\n",
      "[CV] tol=1e-05, solver=lbfgs, n_iter_no_change=10, learning_rate=adaptive, hidden_layer_sizes=(763, 456, 125, 1022, 114), alpha=1e-05, activation=logistic \n"
     ]
    },
    {
     "name": "stderr",
     "output_type": "stream",
     "text": [
      "C:\\ProgramData\\Anaconda3\\lib\\site-packages\\sklearn\\metrics\\classification.py:1437: UndefinedMetricWarning: F-score is ill-defined and being set to 0.0 in labels with no predicted samples.\n",
      "  'precision', 'predicted', average, warn_for)\n"
     ]
    },
    {
     "name": "stdout",
     "output_type": "stream",
     "text": [
      "[CV]  tol=1e-05, solver=lbfgs, n_iter_no_change=10, learning_rate=adaptive, hidden_layer_sizes=(763, 456, 125, 1022, 114), alpha=1e-05, activation=logistic, total=   7.6s\n",
      "[CV] tol=1e-05, solver=lbfgs, n_iter_no_change=10, learning_rate=adaptive, hidden_layer_sizes=(763, 456, 125, 1022, 114), alpha=1e-05, activation=logistic \n"
     ]
    },
    {
     "name": "stderr",
     "output_type": "stream",
     "text": [
      "C:\\ProgramData\\Anaconda3\\lib\\site-packages\\sklearn\\metrics\\classification.py:1437: UndefinedMetricWarning: F-score is ill-defined and being set to 0.0 in labels with no predicted samples.\n",
      "  'precision', 'predicted', average, warn_for)\n"
     ]
    },
    {
     "name": "stdout",
     "output_type": "stream",
     "text": [
      "[CV]  tol=1e-05, solver=lbfgs, n_iter_no_change=10, learning_rate=adaptive, hidden_layer_sizes=(763, 456, 125, 1022, 114), alpha=1e-05, activation=logistic, total=   8.6s\n",
      "[CV] tol=1e-05, solver=sgd, n_iter_no_change=10, learning_rate=adaptive, hidden_layer_sizes=(763, 456, 125, 1022, 114), alpha=1e-05, activation=logistic \n"
     ]
    },
    {
     "name": "stderr",
     "output_type": "stream",
     "text": [
      "C:\\ProgramData\\Anaconda3\\lib\\site-packages\\sklearn\\metrics\\classification.py:1437: UndefinedMetricWarning: F-score is ill-defined and being set to 0.0 in labels with no predicted samples.\n",
      "  'precision', 'predicted', average, warn_for)\n"
     ]
    },
    {
     "name": "stdout",
     "output_type": "stream",
     "text": [
      "[CV]  tol=1e-05, solver=sgd, n_iter_no_change=10, learning_rate=adaptive, hidden_layer_sizes=(763, 456, 125, 1022, 114), alpha=1e-05, activation=logistic, total= 1.4min\n",
      "[CV] tol=1e-05, solver=sgd, n_iter_no_change=10, learning_rate=adaptive, hidden_layer_sizes=(763, 456, 125, 1022, 114), alpha=1e-05, activation=logistic \n"
     ]
    },
    {
     "name": "stderr",
     "output_type": "stream",
     "text": [
      "C:\\ProgramData\\Anaconda3\\lib\\site-packages\\sklearn\\metrics\\classification.py:1437: UndefinedMetricWarning: F-score is ill-defined and being set to 0.0 in labels with no predicted samples.\n",
      "  'precision', 'predicted', average, warn_for)\n"
     ]
    },
    {
     "name": "stdout",
     "output_type": "stream",
     "text": [
      "[CV]  tol=1e-05, solver=sgd, n_iter_no_change=10, learning_rate=adaptive, hidden_layer_sizes=(763, 456, 125, 1022, 114), alpha=1e-05, activation=logistic, total= 1.2min\n",
      "[CV] tol=1e-05, solver=sgd, n_iter_no_change=10, learning_rate=adaptive, hidden_layer_sizes=(763, 456, 125, 1022, 114), alpha=1e-05, activation=logistic \n"
     ]
    },
    {
     "name": "stderr",
     "output_type": "stream",
     "text": [
      "C:\\ProgramData\\Anaconda3\\lib\\site-packages\\sklearn\\metrics\\classification.py:1437: UndefinedMetricWarning: F-score is ill-defined and being set to 0.0 in labels with no predicted samples.\n",
      "  'precision', 'predicted', average, warn_for)\n"
     ]
    },
    {
     "name": "stdout",
     "output_type": "stream",
     "text": [
      "[CV]  tol=1e-05, solver=sgd, n_iter_no_change=10, learning_rate=adaptive, hidden_layer_sizes=(763, 456, 125, 1022, 114), alpha=1e-05, activation=logistic, total= 1.2min\n",
      "[CV] tol=1e-05, solver=sgd, n_iter_no_change=10, learning_rate=adaptive, hidden_layer_sizes=(763, 456, 125, 1022, 114), alpha=1e-05, activation=logistic \n"
     ]
    },
    {
     "name": "stderr",
     "output_type": "stream",
     "text": [
      "C:\\ProgramData\\Anaconda3\\lib\\site-packages\\sklearn\\metrics\\classification.py:1437: UndefinedMetricWarning: F-score is ill-defined and being set to 0.0 in labels with no predicted samples.\n",
      "  'precision', 'predicted', average, warn_for)\n"
     ]
    },
    {
     "name": "stdout",
     "output_type": "stream",
     "text": [
      "[CV]  tol=1e-05, solver=sgd, n_iter_no_change=10, learning_rate=adaptive, hidden_layer_sizes=(763, 456, 125, 1022, 114), alpha=1e-05, activation=logistic, total= 1.5min\n",
      "[CV] tol=1e-05, solver=sgd, n_iter_no_change=10, learning_rate=adaptive, hidden_layer_sizes=(763, 456, 125, 1022, 114), alpha=1e-05, activation=logistic \n"
     ]
    },
    {
     "name": "stderr",
     "output_type": "stream",
     "text": [
      "C:\\ProgramData\\Anaconda3\\lib\\site-packages\\sklearn\\metrics\\classification.py:1437: UndefinedMetricWarning: F-score is ill-defined and being set to 0.0 in labels with no predicted samples.\n",
      "  'precision', 'predicted', average, warn_for)\n"
     ]
    },
    {
     "name": "stdout",
     "output_type": "stream",
     "text": [
      "[CV]  tol=1e-05, solver=sgd, n_iter_no_change=10, learning_rate=adaptive, hidden_layer_sizes=(763, 456, 125, 1022, 114), alpha=1e-05, activation=logistic, total= 1.1min\n",
      "[CV] tol=1e-05, solver=sgd, n_iter_no_change=10, learning_rate=adaptive, hidden_layer_sizes=(763, 456, 125, 1022, 114), alpha=1e-05, activation=logistic \n"
     ]
    },
    {
     "name": "stderr",
     "output_type": "stream",
     "text": [
      "C:\\ProgramData\\Anaconda3\\lib\\site-packages\\sklearn\\metrics\\classification.py:1437: UndefinedMetricWarning: F-score is ill-defined and being set to 0.0 in labels with no predicted samples.\n",
      "  'precision', 'predicted', average, warn_for)\n"
     ]
    },
    {
     "name": "stdout",
     "output_type": "stream",
     "text": [
      "[CV]  tol=1e-05, solver=sgd, n_iter_no_change=10, learning_rate=adaptive, hidden_layer_sizes=(763, 456, 125, 1022, 114), alpha=1e-05, activation=logistic, total= 1.2min\n",
      "[CV] tol=1e-05, solver=sgd, n_iter_no_change=10, learning_rate=adaptive, hidden_layer_sizes=(763, 456, 125, 1022, 114), alpha=1e-05, activation=logistic \n"
     ]
    },
    {
     "name": "stderr",
     "output_type": "stream",
     "text": [
      "C:\\ProgramData\\Anaconda3\\lib\\site-packages\\sklearn\\metrics\\classification.py:1437: UndefinedMetricWarning: F-score is ill-defined and being set to 0.0 in labels with no predicted samples.\n",
      "  'precision', 'predicted', average, warn_for)\n"
     ]
    },
    {
     "name": "stdout",
     "output_type": "stream",
     "text": [
      "[CV]  tol=1e-05, solver=sgd, n_iter_no_change=10, learning_rate=adaptive, hidden_layer_sizes=(763, 456, 125, 1022, 114), alpha=1e-05, activation=logistic, total= 1.1min\n",
      "[CV] tol=1e-05, solver=sgd, n_iter_no_change=10, learning_rate=adaptive, hidden_layer_sizes=(763, 456, 125, 1022, 114), alpha=1e-05, activation=logistic \n"
     ]
    },
    {
     "name": "stderr",
     "output_type": "stream",
     "text": [
      "C:\\ProgramData\\Anaconda3\\lib\\site-packages\\sklearn\\metrics\\classification.py:1437: UndefinedMetricWarning: F-score is ill-defined and being set to 0.0 in labels with no predicted samples.\n",
      "  'precision', 'predicted', average, warn_for)\n"
     ]
    },
    {
     "name": "stdout",
     "output_type": "stream",
     "text": [
      "[CV]  tol=1e-05, solver=sgd, n_iter_no_change=10, learning_rate=adaptive, hidden_layer_sizes=(763, 456, 125, 1022, 114), alpha=1e-05, activation=logistic, total= 1.3min\n",
      "[CV] tol=1e-05, solver=sgd, n_iter_no_change=10, learning_rate=adaptive, hidden_layer_sizes=(763, 456, 125, 1022, 114), alpha=1e-05, activation=logistic \n"
     ]
    },
    {
     "name": "stderr",
     "output_type": "stream",
     "text": [
      "C:\\ProgramData\\Anaconda3\\lib\\site-packages\\sklearn\\metrics\\classification.py:1437: UndefinedMetricWarning: F-score is ill-defined and being set to 0.0 in labels with no predicted samples.\n",
      "  'precision', 'predicted', average, warn_for)\n"
     ]
    },
    {
     "name": "stdout",
     "output_type": "stream",
     "text": [
      "[CV]  tol=1e-05, solver=sgd, n_iter_no_change=10, learning_rate=adaptive, hidden_layer_sizes=(763, 456, 125, 1022, 114), alpha=1e-05, activation=logistic, total= 1.3min\n",
      "[CV] tol=1e-05, solver=sgd, n_iter_no_change=10, learning_rate=adaptive, hidden_layer_sizes=(763, 456, 125, 1022, 114), alpha=1e-05, activation=logistic \n"
     ]
    },
    {
     "name": "stderr",
     "output_type": "stream",
     "text": [
      "C:\\ProgramData\\Anaconda3\\lib\\site-packages\\sklearn\\metrics\\classification.py:1437: UndefinedMetricWarning: F-score is ill-defined and being set to 0.0 in labels with no predicted samples.\n",
      "  'precision', 'predicted', average, warn_for)\n"
     ]
    },
    {
     "name": "stdout",
     "output_type": "stream",
     "text": [
      "[CV]  tol=1e-05, solver=sgd, n_iter_no_change=10, learning_rate=adaptive, hidden_layer_sizes=(763, 456, 125, 1022, 114), alpha=1e-05, activation=logistic, total= 1.3min\n",
      "[CV] tol=1e-05, solver=adam, n_iter_no_change=10, learning_rate=adaptive, hidden_layer_sizes=(763, 456, 125, 1022, 114), alpha=1e-05, activation=logistic \n",
      "[CV]  tol=1e-05, solver=adam, n_iter_no_change=10, learning_rate=adaptive, hidden_layer_sizes=(763, 456, 125, 1022, 114), alpha=1e-05, activation=logistic, total= 2.6min\n",
      "[CV] tol=1e-05, solver=adam, n_iter_no_change=10, learning_rate=adaptive, hidden_layer_sizes=(763, 456, 125, 1022, 114), alpha=1e-05, activation=logistic \n",
      "[CV]  tol=1e-05, solver=adam, n_iter_no_change=10, learning_rate=adaptive, hidden_layer_sizes=(763, 456, 125, 1022, 114), alpha=1e-05, activation=logistic, total= 3.0min\n",
      "[CV] tol=1e-05, solver=adam, n_iter_no_change=10, learning_rate=adaptive, hidden_layer_sizes=(763, 456, 125, 1022, 114), alpha=1e-05, activation=logistic \n",
      "[CV]  tol=1e-05, solver=adam, n_iter_no_change=10, learning_rate=adaptive, hidden_layer_sizes=(763, 456, 125, 1022, 114), alpha=1e-05, activation=logistic, total=  56.3s\n",
      "[CV] tol=1e-05, solver=adam, n_iter_no_change=10, learning_rate=adaptive, hidden_layer_sizes=(763, 456, 125, 1022, 114), alpha=1e-05, activation=logistic \n",
      "[CV]  tol=1e-05, solver=adam, n_iter_no_change=10, learning_rate=adaptive, hidden_layer_sizes=(763, 456, 125, 1022, 114), alpha=1e-05, activation=logistic, total= 1.9min\n",
      "[CV] tol=1e-05, solver=adam, n_iter_no_change=10, learning_rate=adaptive, hidden_layer_sizes=(763, 456, 125, 1022, 114), alpha=1e-05, activation=logistic \n"
     ]
    },
    {
     "name": "stderr",
     "output_type": "stream",
     "text": [
      "C:\\ProgramData\\Anaconda3\\lib\\site-packages\\sklearn\\metrics\\classification.py:1437: UndefinedMetricWarning: F-score is ill-defined and being set to 0.0 in labels with no predicted samples.\n",
      "  'precision', 'predicted', average, warn_for)\n"
     ]
    },
    {
     "name": "stdout",
     "output_type": "stream",
     "text": [
      "[CV]  tol=1e-05, solver=adam, n_iter_no_change=10, learning_rate=adaptive, hidden_layer_sizes=(763, 456, 125, 1022, 114), alpha=1e-05, activation=logistic, total=  21.9s\n",
      "[CV] tol=1e-05, solver=adam, n_iter_no_change=10, learning_rate=adaptive, hidden_layer_sizes=(763, 456, 125, 1022, 114), alpha=1e-05, activation=logistic \n"
     ]
    },
    {
     "name": "stderr",
     "output_type": "stream",
     "text": [
      "C:\\ProgramData\\Anaconda3\\lib\\site-packages\\sklearn\\metrics\\classification.py:1437: UndefinedMetricWarning: F-score is ill-defined and being set to 0.0 in labels with no predicted samples.\n",
      "  'precision', 'predicted', average, warn_for)\n"
     ]
    },
    {
     "name": "stdout",
     "output_type": "stream",
     "text": [
      "[CV]  tol=1e-05, solver=adam, n_iter_no_change=10, learning_rate=adaptive, hidden_layer_sizes=(763, 456, 125, 1022, 114), alpha=1e-05, activation=logistic, total=  18.0s\n",
      "[CV] tol=1e-05, solver=adam, n_iter_no_change=10, learning_rate=adaptive, hidden_layer_sizes=(763, 456, 125, 1022, 114), alpha=1e-05, activation=logistic \n",
      "[CV]  tol=1e-05, solver=adam, n_iter_no_change=10, learning_rate=adaptive, hidden_layer_sizes=(763, 456, 125, 1022, 114), alpha=1e-05, activation=logistic, total= 2.9min\n",
      "[CV] tol=1e-05, solver=adam, n_iter_no_change=10, learning_rate=adaptive, hidden_layer_sizes=(763, 456, 125, 1022, 114), alpha=1e-05, activation=logistic \n",
      "[CV]  tol=1e-05, solver=adam, n_iter_no_change=10, learning_rate=adaptive, hidden_layer_sizes=(763, 456, 125, 1022, 114), alpha=1e-05, activation=logistic, total= 2.9min\n",
      "[CV] tol=1e-05, solver=adam, n_iter_no_change=10, learning_rate=adaptive, hidden_layer_sizes=(763, 456, 125, 1022, 114), alpha=1e-05, activation=logistic \n",
      "[CV]  tol=1e-05, solver=adam, n_iter_no_change=10, learning_rate=adaptive, hidden_layer_sizes=(763, 456, 125, 1022, 114), alpha=1e-05, activation=logistic, total= 2.9min\n",
      "[CV] tol=1e-05, solver=adam, n_iter_no_change=10, learning_rate=adaptive, hidden_layer_sizes=(763, 456, 125, 1022, 114), alpha=1e-05, activation=logistic \n"
     ]
    },
    {
     "name": "stderr",
     "output_type": "stream",
     "text": [
      "C:\\ProgramData\\Anaconda3\\lib\\site-packages\\sklearn\\metrics\\classification.py:1437: UndefinedMetricWarning: F-score is ill-defined and being set to 0.0 in labels with no predicted samples.\n",
      "  'precision', 'predicted', average, warn_for)\n"
     ]
    },
    {
     "name": "stdout",
     "output_type": "stream",
     "text": [
      "[CV]  tol=1e-05, solver=adam, n_iter_no_change=10, learning_rate=adaptive, hidden_layer_sizes=(763, 456, 125, 1022, 114), alpha=1e-05, activation=logistic, total=  16.1s\n",
      "[CV] tol=1e-05, solver=lbfgs, n_iter_no_change=10, learning_rate=constant, hidden_layer_sizes=(763, 456, 125, 1022, 114), alpha=1e-05, activation=tanh \n",
      "[CV]  tol=1e-05, solver=lbfgs, n_iter_no_change=10, learning_rate=constant, hidden_layer_sizes=(763, 456, 125, 1022, 114), alpha=1e-05, activation=tanh, total=10.9min\n",
      "[CV] tol=1e-05, solver=lbfgs, n_iter_no_change=10, learning_rate=constant, hidden_layer_sizes=(763, 456, 125, 1022, 114), alpha=1e-05, activation=tanh \n",
      "[CV]  tol=1e-05, solver=lbfgs, n_iter_no_change=10, learning_rate=constant, hidden_layer_sizes=(763, 456, 125, 1022, 114), alpha=1e-05, activation=tanh, total=12.5min\n",
      "[CV] tol=1e-05, solver=lbfgs, n_iter_no_change=10, learning_rate=constant, hidden_layer_sizes=(763, 456, 125, 1022, 114), alpha=1e-05, activation=tanh \n",
      "[CV]  tol=1e-05, solver=lbfgs, n_iter_no_change=10, learning_rate=constant, hidden_layer_sizes=(763, 456, 125, 1022, 114), alpha=1e-05, activation=tanh, total=12.4min\n",
      "[CV] tol=1e-05, solver=lbfgs, n_iter_no_change=10, learning_rate=constant, hidden_layer_sizes=(763, 456, 125, 1022, 114), alpha=1e-05, activation=tanh \n",
      "[CV]  tol=1e-05, solver=lbfgs, n_iter_no_change=10, learning_rate=constant, hidden_layer_sizes=(763, 456, 125, 1022, 114), alpha=1e-05, activation=tanh, total=13.2min\n",
      "[CV] tol=1e-05, solver=lbfgs, n_iter_no_change=10, learning_rate=constant, hidden_layer_sizes=(763, 456, 125, 1022, 114), alpha=1e-05, activation=tanh \n",
      "[CV]  tol=1e-05, solver=lbfgs, n_iter_no_change=10, learning_rate=constant, hidden_layer_sizes=(763, 456, 125, 1022, 114), alpha=1e-05, activation=tanh, total=12.2min\n",
      "[CV] tol=1e-05, solver=lbfgs, n_iter_no_change=10, learning_rate=constant, hidden_layer_sizes=(763, 456, 125, 1022, 114), alpha=1e-05, activation=tanh \n",
      "[CV]  tol=1e-05, solver=lbfgs, n_iter_no_change=10, learning_rate=constant, hidden_layer_sizes=(763, 456, 125, 1022, 114), alpha=1e-05, activation=tanh, total=12.3min\n",
      "[CV] tol=1e-05, solver=lbfgs, n_iter_no_change=10, learning_rate=constant, hidden_layer_sizes=(763, 456, 125, 1022, 114), alpha=1e-05, activation=tanh \n",
      "[CV]  tol=1e-05, solver=lbfgs, n_iter_no_change=10, learning_rate=constant, hidden_layer_sizes=(763, 456, 125, 1022, 114), alpha=1e-05, activation=tanh, total=12.0min\n",
      "[CV] tol=1e-05, solver=lbfgs, n_iter_no_change=10, learning_rate=constant, hidden_layer_sizes=(763, 456, 125, 1022, 114), alpha=1e-05, activation=tanh \n",
      "[CV]  tol=1e-05, solver=lbfgs, n_iter_no_change=10, learning_rate=constant, hidden_layer_sizes=(763, 456, 125, 1022, 114), alpha=1e-05, activation=tanh, total=12.6min\n",
      "[CV] tol=1e-05, solver=lbfgs, n_iter_no_change=10, learning_rate=constant, hidden_layer_sizes=(763, 456, 125, 1022, 114), alpha=1e-05, activation=tanh \n",
      "[CV]  tol=1e-05, solver=lbfgs, n_iter_no_change=10, learning_rate=constant, hidden_layer_sizes=(763, 456, 125, 1022, 114), alpha=1e-05, activation=tanh, total=12.5min\n",
      "[CV] tol=1e-05, solver=lbfgs, n_iter_no_change=10, learning_rate=constant, hidden_layer_sizes=(763, 456, 125, 1022, 114), alpha=1e-05, activation=tanh \n",
      "[CV]  tol=1e-05, solver=lbfgs, n_iter_no_change=10, learning_rate=constant, hidden_layer_sizes=(763, 456, 125, 1022, 114), alpha=1e-05, activation=tanh, total=13.9min\n",
      "[CV] tol=1e-05, solver=sgd, n_iter_no_change=10, learning_rate=constant, hidden_layer_sizes=(763, 456, 125, 1022, 114), alpha=1e-05, activation=tanh \n",
      "[CV]  tol=1e-05, solver=sgd, n_iter_no_change=10, learning_rate=constant, hidden_layer_sizes=(763, 456, 125, 1022, 114), alpha=1e-05, activation=tanh, total= 5.2min\n",
      "[CV] tol=1e-05, solver=sgd, n_iter_no_change=10, learning_rate=constant, hidden_layer_sizes=(763, 456, 125, 1022, 114), alpha=1e-05, activation=tanh \n",
      "[CV]  tol=1e-05, solver=sgd, n_iter_no_change=10, learning_rate=constant, hidden_layer_sizes=(763, 456, 125, 1022, 114), alpha=1e-05, activation=tanh, total= 5.0min\n",
      "[CV] tol=1e-05, solver=sgd, n_iter_no_change=10, learning_rate=constant, hidden_layer_sizes=(763, 456, 125, 1022, 114), alpha=1e-05, activation=tanh \n",
      "[CV]  tol=1e-05, solver=sgd, n_iter_no_change=10, learning_rate=constant, hidden_layer_sizes=(763, 456, 125, 1022, 114), alpha=1e-05, activation=tanh, total= 5.0min\n",
      "[CV] tol=1e-05, solver=sgd, n_iter_no_change=10, learning_rate=constant, hidden_layer_sizes=(763, 456, 125, 1022, 114), alpha=1e-05, activation=tanh \n",
      "[CV]  tol=1e-05, solver=sgd, n_iter_no_change=10, learning_rate=constant, hidden_layer_sizes=(763, 456, 125, 1022, 114), alpha=1e-05, activation=tanh, total= 6.0min\n",
      "[CV] tol=1e-05, solver=sgd, n_iter_no_change=10, learning_rate=constant, hidden_layer_sizes=(763, 456, 125, 1022, 114), alpha=1e-05, activation=tanh \n",
      "[CV]  tol=1e-05, solver=sgd, n_iter_no_change=10, learning_rate=constant, hidden_layer_sizes=(763, 456, 125, 1022, 114), alpha=1e-05, activation=tanh, total= 4.0min\n",
      "[CV] tol=1e-05, solver=sgd, n_iter_no_change=10, learning_rate=constant, hidden_layer_sizes=(763, 456, 125, 1022, 114), alpha=1e-05, activation=tanh \n",
      "[CV]  tol=1e-05, solver=sgd, n_iter_no_change=10, learning_rate=constant, hidden_layer_sizes=(763, 456, 125, 1022, 114), alpha=1e-05, activation=tanh, total= 3.4min\n",
      "[CV] tol=1e-05, solver=sgd, n_iter_no_change=10, learning_rate=constant, hidden_layer_sizes=(763, 456, 125, 1022, 114), alpha=1e-05, activation=tanh \n",
      "[CV]  tol=1e-05, solver=sgd, n_iter_no_change=10, learning_rate=constant, hidden_layer_sizes=(763, 456, 125, 1022, 114), alpha=1e-05, activation=tanh, total= 4.7min\n",
      "[CV] tol=1e-05, solver=sgd, n_iter_no_change=10, learning_rate=constant, hidden_layer_sizes=(763, 456, 125, 1022, 114), alpha=1e-05, activation=tanh \n",
      "[CV]  tol=1e-05, solver=sgd, n_iter_no_change=10, learning_rate=constant, hidden_layer_sizes=(763, 456, 125, 1022, 114), alpha=1e-05, activation=tanh, total= 4.8min\n",
      "[CV] tol=1e-05, solver=sgd, n_iter_no_change=10, learning_rate=constant, hidden_layer_sizes=(763, 456, 125, 1022, 114), alpha=1e-05, activation=tanh \n",
      "[CV]  tol=1e-05, solver=sgd, n_iter_no_change=10, learning_rate=constant, hidden_layer_sizes=(763, 456, 125, 1022, 114), alpha=1e-05, activation=tanh, total= 4.6min\n",
      "[CV] tol=1e-05, solver=sgd, n_iter_no_change=10, learning_rate=constant, hidden_layer_sizes=(763, 456, 125, 1022, 114), alpha=1e-05, activation=tanh \n",
      "[CV]  tol=1e-05, solver=sgd, n_iter_no_change=10, learning_rate=constant, hidden_layer_sizes=(763, 456, 125, 1022, 114), alpha=1e-05, activation=tanh, total= 5.5min\n",
      "[CV] tol=1e-05, solver=adam, n_iter_no_change=10, learning_rate=constant, hidden_layer_sizes=(763, 456, 125, 1022, 114), alpha=1e-05, activation=tanh \n",
      "[CV]  tol=1e-05, solver=adam, n_iter_no_change=10, learning_rate=constant, hidden_layer_sizes=(763, 456, 125, 1022, 114), alpha=1e-05, activation=tanh, total= 1.9min\n",
      "[CV] tol=1e-05, solver=adam, n_iter_no_change=10, learning_rate=constant, hidden_layer_sizes=(763, 456, 125, 1022, 114), alpha=1e-05, activation=tanh \n",
      "[CV]  tol=1e-05, solver=adam, n_iter_no_change=10, learning_rate=constant, hidden_layer_sizes=(763, 456, 125, 1022, 114), alpha=1e-05, activation=tanh, total= 1.6min\n",
      "[CV] tol=1e-05, solver=adam, n_iter_no_change=10, learning_rate=constant, hidden_layer_sizes=(763, 456, 125, 1022, 114), alpha=1e-05, activation=tanh \n",
      "[CV]  tol=1e-05, solver=adam, n_iter_no_change=10, learning_rate=constant, hidden_layer_sizes=(763, 456, 125, 1022, 114), alpha=1e-05, activation=tanh, total= 1.3min\n",
      "[CV] tol=1e-05, solver=adam, n_iter_no_change=10, learning_rate=constant, hidden_layer_sizes=(763, 456, 125, 1022, 114), alpha=1e-05, activation=tanh \n",
      "[CV]  tol=1e-05, solver=adam, n_iter_no_change=10, learning_rate=constant, hidden_layer_sizes=(763, 456, 125, 1022, 114), alpha=1e-05, activation=tanh, total= 1.6min\n",
      "[CV] tol=1e-05, solver=adam, n_iter_no_change=10, learning_rate=constant, hidden_layer_sizes=(763, 456, 125, 1022, 114), alpha=1e-05, activation=tanh \n",
      "[CV]  tol=1e-05, solver=adam, n_iter_no_change=10, learning_rate=constant, hidden_layer_sizes=(763, 456, 125, 1022, 114), alpha=1e-05, activation=tanh, total= 2.0min\n",
      "[CV] tol=1e-05, solver=adam, n_iter_no_change=10, learning_rate=constant, hidden_layer_sizes=(763, 456, 125, 1022, 114), alpha=1e-05, activation=tanh \n"
     ]
    },
    {
     "name": "stdout",
     "output_type": "stream",
     "text": [
      "[CV]  tol=1e-05, solver=adam, n_iter_no_change=10, learning_rate=constant, hidden_layer_sizes=(763, 456, 125, 1022, 114), alpha=1e-05, activation=tanh, total= 1.6min\n",
      "[CV] tol=1e-05, solver=adam, n_iter_no_change=10, learning_rate=constant, hidden_layer_sizes=(763, 456, 125, 1022, 114), alpha=1e-05, activation=tanh \n",
      "[CV]  tol=1e-05, solver=adam, n_iter_no_change=10, learning_rate=constant, hidden_layer_sizes=(763, 456, 125, 1022, 114), alpha=1e-05, activation=tanh, total= 1.0min\n",
      "[CV] tol=1e-05, solver=adam, n_iter_no_change=10, learning_rate=constant, hidden_layer_sizes=(763, 456, 125, 1022, 114), alpha=1e-05, activation=tanh \n",
      "[CV]  tol=1e-05, solver=adam, n_iter_no_change=10, learning_rate=constant, hidden_layer_sizes=(763, 456, 125, 1022, 114), alpha=1e-05, activation=tanh, total= 1.7min\n",
      "[CV] tol=1e-05, solver=adam, n_iter_no_change=10, learning_rate=constant, hidden_layer_sizes=(763, 456, 125, 1022, 114), alpha=1e-05, activation=tanh \n",
      "[CV]  tol=1e-05, solver=adam, n_iter_no_change=10, learning_rate=constant, hidden_layer_sizes=(763, 456, 125, 1022, 114), alpha=1e-05, activation=tanh, total=  56.9s\n",
      "[CV] tol=1e-05, solver=adam, n_iter_no_change=10, learning_rate=constant, hidden_layer_sizes=(763, 456, 125, 1022, 114), alpha=1e-05, activation=tanh \n",
      "[CV]  tol=1e-05, solver=adam, n_iter_no_change=10, learning_rate=constant, hidden_layer_sizes=(763, 456, 125, 1022, 114), alpha=1e-05, activation=tanh, total= 2.2min\n",
      "[CV] tol=1e-05, solver=lbfgs, n_iter_no_change=10, learning_rate=adaptive, hidden_layer_sizes=(763, 456, 125, 1022, 114), alpha=1e-05, activation=tanh \n",
      "[CV]  tol=1e-05, solver=lbfgs, n_iter_no_change=10, learning_rate=adaptive, hidden_layer_sizes=(763, 456, 125, 1022, 114), alpha=1e-05, activation=tanh, total=10.6min\n",
      "[CV] tol=1e-05, solver=lbfgs, n_iter_no_change=10, learning_rate=adaptive, hidden_layer_sizes=(763, 456, 125, 1022, 114), alpha=1e-05, activation=tanh \n",
      "[CV]  tol=1e-05, solver=lbfgs, n_iter_no_change=10, learning_rate=adaptive, hidden_layer_sizes=(763, 456, 125, 1022, 114), alpha=1e-05, activation=tanh, total=10.9min\n",
      "[CV] tol=1e-05, solver=lbfgs, n_iter_no_change=10, learning_rate=adaptive, hidden_layer_sizes=(763, 456, 125, 1022, 114), alpha=1e-05, activation=tanh \n",
      "[CV]  tol=1e-05, solver=lbfgs, n_iter_no_change=10, learning_rate=adaptive, hidden_layer_sizes=(763, 456, 125, 1022, 114), alpha=1e-05, activation=tanh, total=11.2min\n",
      "[CV] tol=1e-05, solver=lbfgs, n_iter_no_change=10, learning_rate=adaptive, hidden_layer_sizes=(763, 456, 125, 1022, 114), alpha=1e-05, activation=tanh \n",
      "[CV]  tol=1e-05, solver=lbfgs, n_iter_no_change=10, learning_rate=adaptive, hidden_layer_sizes=(763, 456, 125, 1022, 114), alpha=1e-05, activation=tanh, total=60.5min\n",
      "[CV] tol=1e-05, solver=lbfgs, n_iter_no_change=10, learning_rate=adaptive, hidden_layer_sizes=(763, 456, 125, 1022, 114), alpha=1e-05, activation=tanh \n",
      "[CV]  tol=1e-05, solver=lbfgs, n_iter_no_change=10, learning_rate=adaptive, hidden_layer_sizes=(763, 456, 125, 1022, 114), alpha=1e-05, activation=tanh, total=10.8min\n",
      "[CV] tol=1e-05, solver=lbfgs, n_iter_no_change=10, learning_rate=adaptive, hidden_layer_sizes=(763, 456, 125, 1022, 114), alpha=1e-05, activation=tanh \n",
      "[CV]  tol=1e-05, solver=lbfgs, n_iter_no_change=10, learning_rate=adaptive, hidden_layer_sizes=(763, 456, 125, 1022, 114), alpha=1e-05, activation=tanh, total=11.7min\n",
      "[CV] tol=1e-05, solver=lbfgs, n_iter_no_change=10, learning_rate=adaptive, hidden_layer_sizes=(763, 456, 125, 1022, 114), alpha=1e-05, activation=tanh \n",
      "[CV]  tol=1e-05, solver=lbfgs, n_iter_no_change=10, learning_rate=adaptive, hidden_layer_sizes=(763, 456, 125, 1022, 114), alpha=1e-05, activation=tanh, total=10.7min\n",
      "[CV] tol=1e-05, solver=lbfgs, n_iter_no_change=10, learning_rate=adaptive, hidden_layer_sizes=(763, 456, 125, 1022, 114), alpha=1e-05, activation=tanh \n",
      "[CV]  tol=1e-05, solver=lbfgs, n_iter_no_change=10, learning_rate=adaptive, hidden_layer_sizes=(763, 456, 125, 1022, 114), alpha=1e-05, activation=tanh, total=10.6min\n",
      "[CV] tol=1e-05, solver=lbfgs, n_iter_no_change=10, learning_rate=adaptive, hidden_layer_sizes=(763, 456, 125, 1022, 114), alpha=1e-05, activation=tanh \n",
      "[CV]  tol=1e-05, solver=lbfgs, n_iter_no_change=10, learning_rate=adaptive, hidden_layer_sizes=(763, 456, 125, 1022, 114), alpha=1e-05, activation=tanh, total=10.7min\n",
      "[CV] tol=1e-05, solver=lbfgs, n_iter_no_change=10, learning_rate=adaptive, hidden_layer_sizes=(763, 456, 125, 1022, 114), alpha=1e-05, activation=tanh \n",
      "[CV]  tol=1e-05, solver=lbfgs, n_iter_no_change=10, learning_rate=adaptive, hidden_layer_sizes=(763, 456, 125, 1022, 114), alpha=1e-05, activation=tanh, total=10.6min\n",
      "[CV] tol=1e-05, solver=sgd, n_iter_no_change=10, learning_rate=adaptive, hidden_layer_sizes=(763, 456, 125, 1022, 114), alpha=1e-05, activation=tanh \n",
      "[CV]  tol=1e-05, solver=sgd, n_iter_no_change=10, learning_rate=adaptive, hidden_layer_sizes=(763, 456, 125, 1022, 114), alpha=1e-05, activation=tanh, total= 6.3min\n",
      "[CV] tol=1e-05, solver=sgd, n_iter_no_change=10, learning_rate=adaptive, hidden_layer_sizes=(763, 456, 125, 1022, 114), alpha=1e-05, activation=tanh \n",
      "[CV]  tol=1e-05, solver=sgd, n_iter_no_change=10, learning_rate=adaptive, hidden_layer_sizes=(763, 456, 125, 1022, 114), alpha=1e-05, activation=tanh, total= 4.7min\n",
      "[CV] tol=1e-05, solver=sgd, n_iter_no_change=10, learning_rate=adaptive, hidden_layer_sizes=(763, 456, 125, 1022, 114), alpha=1e-05, activation=tanh \n",
      "[CV]  tol=1e-05, solver=sgd, n_iter_no_change=10, learning_rate=adaptive, hidden_layer_sizes=(763, 456, 125, 1022, 114), alpha=1e-05, activation=tanh, total= 5.5min\n",
      "[CV] tol=1e-05, solver=sgd, n_iter_no_change=10, learning_rate=adaptive, hidden_layer_sizes=(763, 456, 125, 1022, 114), alpha=1e-05, activation=tanh \n",
      "[CV]  tol=1e-05, solver=sgd, n_iter_no_change=10, learning_rate=adaptive, hidden_layer_sizes=(763, 456, 125, 1022, 114), alpha=1e-05, activation=tanh, total= 4.3min\n",
      "[CV] tol=1e-05, solver=sgd, n_iter_no_change=10, learning_rate=adaptive, hidden_layer_sizes=(763, 456, 125, 1022, 114), alpha=1e-05, activation=tanh \n",
      "[CV]  tol=1e-05, solver=sgd, n_iter_no_change=10, learning_rate=adaptive, hidden_layer_sizes=(763, 456, 125, 1022, 114), alpha=1e-05, activation=tanh, total= 4.2min\n",
      "[CV] tol=1e-05, solver=sgd, n_iter_no_change=10, learning_rate=adaptive, hidden_layer_sizes=(763, 456, 125, 1022, 114), alpha=1e-05, activation=tanh \n",
      "[CV]  tol=1e-05, solver=sgd, n_iter_no_change=10, learning_rate=adaptive, hidden_layer_sizes=(763, 456, 125, 1022, 114), alpha=1e-05, activation=tanh, total= 4.5min\n",
      "[CV] tol=1e-05, solver=sgd, n_iter_no_change=10, learning_rate=adaptive, hidden_layer_sizes=(763, 456, 125, 1022, 114), alpha=1e-05, activation=tanh \n",
      "[CV]  tol=1e-05, solver=sgd, n_iter_no_change=10, learning_rate=adaptive, hidden_layer_sizes=(763, 456, 125, 1022, 114), alpha=1e-05, activation=tanh, total= 4.7min\n",
      "[CV] tol=1e-05, solver=sgd, n_iter_no_change=10, learning_rate=adaptive, hidden_layer_sizes=(763, 456, 125, 1022, 114), alpha=1e-05, activation=tanh \n",
      "[CV]  tol=1e-05, solver=sgd, n_iter_no_change=10, learning_rate=adaptive, hidden_layer_sizes=(763, 456, 125, 1022, 114), alpha=1e-05, activation=tanh, total= 4.5min\n",
      "[CV] tol=1e-05, solver=sgd, n_iter_no_change=10, learning_rate=adaptive, hidden_layer_sizes=(763, 456, 125, 1022, 114), alpha=1e-05, activation=tanh \n",
      "[CV]  tol=1e-05, solver=sgd, n_iter_no_change=10, learning_rate=adaptive, hidden_layer_sizes=(763, 456, 125, 1022, 114), alpha=1e-05, activation=tanh, total= 5.4min\n",
      "[CV] tol=1e-05, solver=sgd, n_iter_no_change=10, learning_rate=adaptive, hidden_layer_sizes=(763, 456, 125, 1022, 114), alpha=1e-05, activation=tanh \n",
      "[CV]  tol=1e-05, solver=sgd, n_iter_no_change=10, learning_rate=adaptive, hidden_layer_sizes=(763, 456, 125, 1022, 114), alpha=1e-05, activation=tanh, total= 7.0min\n",
      "[CV] tol=1e-05, solver=adam, n_iter_no_change=10, learning_rate=adaptive, hidden_layer_sizes=(763, 456, 125, 1022, 114), alpha=1e-05, activation=tanh \n",
      "[CV]  tol=1e-05, solver=adam, n_iter_no_change=10, learning_rate=adaptive, hidden_layer_sizes=(763, 456, 125, 1022, 114), alpha=1e-05, activation=tanh, total= 1.6min\n",
      "[CV] tol=1e-05, solver=adam, n_iter_no_change=10, learning_rate=adaptive, hidden_layer_sizes=(763, 456, 125, 1022, 114), alpha=1e-05, activation=tanh \n"
     ]
    },
    {
     "name": "stdout",
     "output_type": "stream",
     "text": [
      "[CV]  tol=1e-05, solver=adam, n_iter_no_change=10, learning_rate=adaptive, hidden_layer_sizes=(763, 456, 125, 1022, 114), alpha=1e-05, activation=tanh, total=  52.7s\n",
      "[CV] tol=1e-05, solver=adam, n_iter_no_change=10, learning_rate=adaptive, hidden_layer_sizes=(763, 456, 125, 1022, 114), alpha=1e-05, activation=tanh \n",
      "[CV]  tol=1e-05, solver=adam, n_iter_no_change=10, learning_rate=adaptive, hidden_layer_sizes=(763, 456, 125, 1022, 114), alpha=1e-05, activation=tanh, total=  50.2s\n",
      "[CV] tol=1e-05, solver=adam, n_iter_no_change=10, learning_rate=adaptive, hidden_layer_sizes=(763, 456, 125, 1022, 114), alpha=1e-05, activation=tanh \n",
      "[CV]  tol=1e-05, solver=adam, n_iter_no_change=10, learning_rate=adaptive, hidden_layer_sizes=(763, 456, 125, 1022, 114), alpha=1e-05, activation=tanh, total= 1.2min\n",
      "[CV] tol=1e-05, solver=adam, n_iter_no_change=10, learning_rate=adaptive, hidden_layer_sizes=(763, 456, 125, 1022, 114), alpha=1e-05, activation=tanh \n",
      "[CV]  tol=1e-05, solver=adam, n_iter_no_change=10, learning_rate=adaptive, hidden_layer_sizes=(763, 456, 125, 1022, 114), alpha=1e-05, activation=tanh, total= 1.5min\n",
      "[CV] tol=1e-05, solver=adam, n_iter_no_change=10, learning_rate=adaptive, hidden_layer_sizes=(763, 456, 125, 1022, 114), alpha=1e-05, activation=tanh \n",
      "[CV]  tol=1e-05, solver=adam, n_iter_no_change=10, learning_rate=adaptive, hidden_layer_sizes=(763, 456, 125, 1022, 114), alpha=1e-05, activation=tanh, total=  45.9s\n",
      "[CV] tol=1e-05, solver=adam, n_iter_no_change=10, learning_rate=adaptive, hidden_layer_sizes=(763, 456, 125, 1022, 114), alpha=1e-05, activation=tanh \n",
      "[CV]  tol=1e-05, solver=adam, n_iter_no_change=10, learning_rate=adaptive, hidden_layer_sizes=(763, 456, 125, 1022, 114), alpha=1e-05, activation=tanh, total= 1.0min\n",
      "[CV] tol=1e-05, solver=adam, n_iter_no_change=10, learning_rate=adaptive, hidden_layer_sizes=(763, 456, 125, 1022, 114), alpha=1e-05, activation=tanh \n",
      "[CV]  tol=1e-05, solver=adam, n_iter_no_change=10, learning_rate=adaptive, hidden_layer_sizes=(763, 456, 125, 1022, 114), alpha=1e-05, activation=tanh, total=  53.4s\n",
      "[CV] tol=1e-05, solver=adam, n_iter_no_change=10, learning_rate=adaptive, hidden_layer_sizes=(763, 456, 125, 1022, 114), alpha=1e-05, activation=tanh \n",
      "[CV]  tol=1e-05, solver=adam, n_iter_no_change=10, learning_rate=adaptive, hidden_layer_sizes=(763, 456, 125, 1022, 114), alpha=1e-05, activation=tanh, total= 1.7min\n",
      "[CV] tol=1e-05, solver=adam, n_iter_no_change=10, learning_rate=adaptive, hidden_layer_sizes=(763, 456, 125, 1022, 114), alpha=1e-05, activation=tanh \n",
      "[CV]  tol=1e-05, solver=adam, n_iter_no_change=10, learning_rate=adaptive, hidden_layer_sizes=(763, 456, 125, 1022, 114), alpha=1e-05, activation=tanh, total= 1.5min\n"
     ]
    },
    {
     "name": "stderr",
     "output_type": "stream",
     "text": [
      "[Parallel(n_jobs=1)]: Done 180 out of 180 | elapsed: 673.5min finished\n"
     ]
    },
    {
     "data": {
      "text/plain": [
       "RandomizedSearchCV(cv=10, error_score='raise-deprecating',\n",
       "                   estimator=MLPClassifier(activation='relu', alpha=0.0001,\n",
       "                                           batch_size='auto', beta_1=0.9,\n",
       "                                           beta_2=0.999, early_stopping=False,\n",
       "                                           epsilon=1e-08,\n",
       "                                           hidden_layer_sizes=(100,),\n",
       "                                           learning_rate='constant',\n",
       "                                           learning_rate_init=0.001,\n",
       "                                           max_iter=1000, momentum=0.9,\n",
       "                                           n_iter_no_change=10,\n",
       "                                           nesterovs_momentum=True, power_t=0.5,\n",
       "                                           ra...\n",
       "                   iid='warn', n_iter=100, n_jobs=None,\n",
       "                   param_distributions={'activation': ['identity', 'logistic',\n",
       "                                                       'tanh'],\n",
       "                                        'alpha': [1e-05],\n",
       "                                        'hidden_layer_sizes': [(763, 456, 125,\n",
       "                                                                1022, 114)],\n",
       "                                        'learning_rate': ['constant',\n",
       "                                                          'adaptive'],\n",
       "                                        'n_iter_no_change': [10],\n",
       "                                        'solver': ['lbfgs', 'sgd', 'adam'],\n",
       "                                        'tol': [1e-05]},\n",
       "                   pre_dispatch='2*n_jobs', random_state=42, refit=True,\n",
       "                   return_train_score=False, scoring='f1_macro', verbose=2)"
      ]
     },
     "execution_count": 76,
     "metadata": {},
     "output_type": "execute_result"
    }
   ],
   "source": [
    "from sklearn.model_selection import RandomizedSearchCV\n",
    "from sklearn.neural_network import MLPClassifier\n",
    "from scipy.stats import randint as sp_randint\n",
    "\n",
    "mlpRandom = MLPClassifier (max_iter=1000)\n",
    "\n",
    "param_distributions = {'hidden_layer_sizes': [(sp_randint.rvs(1,1200,1),sp_randint.rvs(1,1200,1),sp_randint.rvs(1,1200,1),sp_randint.rvs(1,1200,1),sp_randint.rvs(1,1200,1))],\n",
    "    'activation': ['identity','logistic','tanh'],\n",
    "    'solver': ['lbfgs','sgd', 'adam'],\n",
    "    'alpha': [1e-5],\n",
    "    'learning_rate': ['constant','adaptive'],\n",
    "    'tol' : [1e-5],\n",
    "    'n_iter_no_change' : [10]    \n",
    "}\n",
    "\n",
    "g = RandomizedSearchCV(mlpRandom, param_distributions, n_iter=100, scoring= 'f1_macro',cv = 10, n_jobs=None, verbose=2, random_state=42, error_score='raise-deprecating')\n",
    "g.fit(X_train, y_train)"
   ]
  },
  {
   "cell_type": "code",
   "execution_count": 77,
   "metadata": {},
   "outputs": [
    {
     "name": "stdout",
     "output_type": "stream",
     "text": [
      "Best parameters found:\n",
      " {'tol': 1e-05, 'solver': 'adam', 'n_iter_no_change': 10, 'learning_rate': 'constant', 'hidden_layer_sizes': (763, 456, 125, 1022, 114), 'alpha': 1e-05, 'activation': 'identity'}\n",
      "0.553 (+/-0.065) for {'tol': 1e-05, 'solver': 'lbfgs', 'n_iter_no_change': 10, 'learning_rate': 'constant', 'hidden_layer_sizes': (763, 456, 125, 1022, 114), 'alpha': 1e-05, 'activation': 'identity'}\n",
      "0.548 (+/-0.054) for {'tol': 1e-05, 'solver': 'sgd', 'n_iter_no_change': 10, 'learning_rate': 'constant', 'hidden_layer_sizes': (763, 456, 125, 1022, 114), 'alpha': 1e-05, 'activation': 'identity'}\n",
      "0.557 (+/-0.050) for {'tol': 1e-05, 'solver': 'adam', 'n_iter_no_change': 10, 'learning_rate': 'constant', 'hidden_layer_sizes': (763, 456, 125, 1022, 114), 'alpha': 1e-05, 'activation': 'identity'}\n",
      "0.554 (+/-0.066) for {'tol': 1e-05, 'solver': 'lbfgs', 'n_iter_no_change': 10, 'learning_rate': 'adaptive', 'hidden_layer_sizes': (763, 456, 125, 1022, 114), 'alpha': 1e-05, 'activation': 'identity'}\n",
      "0.555 (+/-0.059) for {'tol': 1e-05, 'solver': 'sgd', 'n_iter_no_change': 10, 'learning_rate': 'adaptive', 'hidden_layer_sizes': (763, 456, 125, 1022, 114), 'alpha': 1e-05, 'activation': 'identity'}\n",
      "0.548 (+/-0.055) for {'tol': 1e-05, 'solver': 'adam', 'n_iter_no_change': 10, 'learning_rate': 'adaptive', 'hidden_layer_sizes': (763, 456, 125, 1022, 114), 'alpha': 1e-05, 'activation': 'identity'}\n",
      "0.474 (+/-0.000) for {'tol': 1e-05, 'solver': 'lbfgs', 'n_iter_no_change': 10, 'learning_rate': 'constant', 'hidden_layer_sizes': (763, 456, 125, 1022, 114), 'alpha': 1e-05, 'activation': 'logistic'}\n",
      "0.474 (+/-0.000) for {'tol': 1e-05, 'solver': 'sgd', 'n_iter_no_change': 10, 'learning_rate': 'constant', 'hidden_layer_sizes': (763, 456, 125, 1022, 114), 'alpha': 1e-05, 'activation': 'logistic'}\n",
      "0.542 (+/-0.094) for {'tol': 1e-05, 'solver': 'adam', 'n_iter_no_change': 10, 'learning_rate': 'constant', 'hidden_layer_sizes': (763, 456, 125, 1022, 114), 'alpha': 1e-05, 'activation': 'logistic'}\n",
      "0.474 (+/-0.000) for {'tol': 1e-05, 'solver': 'lbfgs', 'n_iter_no_change': 10, 'learning_rate': 'adaptive', 'hidden_layer_sizes': (763, 456, 125, 1022, 114), 'alpha': 1e-05, 'activation': 'logistic'}\n",
      "0.474 (+/-0.000) for {'tol': 1e-05, 'solver': 'sgd', 'n_iter_no_change': 10, 'learning_rate': 'adaptive', 'hidden_layer_sizes': (763, 456, 125, 1022, 114), 'alpha': 1e-05, 'activation': 'logistic'}\n",
      "0.532 (+/-0.088) for {'tol': 1e-05, 'solver': 'adam', 'n_iter_no_change': 10, 'learning_rate': 'adaptive', 'hidden_layer_sizes': (763, 456, 125, 1022, 114), 'alpha': 1e-05, 'activation': 'logistic'}\n",
      "0.553 (+/-0.098) for {'tol': 1e-05, 'solver': 'lbfgs', 'n_iter_no_change': 10, 'learning_rate': 'constant', 'hidden_layer_sizes': (763, 456, 125, 1022, 114), 'alpha': 1e-05, 'activation': 'tanh'}\n",
      "0.554 (+/-0.057) for {'tol': 1e-05, 'solver': 'sgd', 'n_iter_no_change': 10, 'learning_rate': 'constant', 'hidden_layer_sizes': (763, 456, 125, 1022, 114), 'alpha': 1e-05, 'activation': 'tanh'}\n",
      "0.554 (+/-0.075) for {'tol': 1e-05, 'solver': 'adam', 'n_iter_no_change': 10, 'learning_rate': 'constant', 'hidden_layer_sizes': (763, 456, 125, 1022, 114), 'alpha': 1e-05, 'activation': 'tanh'}\n",
      "0.542 (+/-0.087) for {'tol': 1e-05, 'solver': 'lbfgs', 'n_iter_no_change': 10, 'learning_rate': 'adaptive', 'hidden_layer_sizes': (763, 456, 125, 1022, 114), 'alpha': 1e-05, 'activation': 'tanh'}\n",
      "0.551 (+/-0.060) for {'tol': 1e-05, 'solver': 'sgd', 'n_iter_no_change': 10, 'learning_rate': 'adaptive', 'hidden_layer_sizes': (763, 456, 125, 1022, 114), 'alpha': 1e-05, 'activation': 'tanh'}\n",
      "0.540 (+/-0.075) for {'tol': 1e-05, 'solver': 'adam', 'n_iter_no_change': 10, 'learning_rate': 'adaptive', 'hidden_layer_sizes': (763, 456, 125, 1022, 114), 'alpha': 1e-05, 'activation': 'tanh'}\n"
     ]
    }
   ],
   "source": [
    "# Best paramete set\n",
    "print('Best parameters found:\\n', g.best_params_)\n",
    "\n",
    "# All results\n",
    "means = g.cv_results_['mean_test_score']\n",
    "stds = g.cv_results_['std_test_score']\n",
    "for mean, std, params in zip(means, stds, g.cv_results_['params']):\n",
    "    print(\"%0.3f (+/-%0.03f) for %r\" % (mean, std * 2, params))"
   ]
  },
  {
   "cell_type": "code",
   "execution_count": 101,
   "metadata": {},
   "outputs": [
    {
     "name": "stdout",
     "output_type": "stream",
     "text": [
      "f1_score_weighted: 0.9446927239480015\n",
      "f1_score_macro: 0.5829744292759087\n",
      "accuracy: 0.9140832595217007\n"
     ]
    }
   ],
   "source": [
    "mlp = MLPClassifier(hidden_layer_sizes = (763, 456, 125, 1022, 114),\n",
    "                    alpha = 1e-05,\n",
    "                    activation = 'identity',\n",
    "                    solver = 'adam',\n",
    "                    learning_rate = 'constant',\n",
    "                    max_iter = 1000,\n",
    "                    tol = 1e-05,\n",
    "                    random_state = 42,\n",
    "                    n_iter_no_change=10)\n",
    "mlp.fit(X_train, y_train) \n",
    "y_pred_mlp = mlp.predict(X_test)\n",
    "print('f1_score_weighted:' , f1_score(y_pred_mlp,y_test,average='weighted'))\n",
    "print('f1_score_macro:' , f1_score(y_pred_mlp,y_test,average='macro'))\n",
    "print('accuracy:' , accuracy_score(y_pred_mlp,y_test))"
   ]
  },
  {
   "cell_type": "markdown",
   "metadata": {},
   "source": [
    "# TASK 2"
   ]
  },
  {
   "cell_type": "markdown",
   "metadata": {},
   "source": [
    "<h3>1. Preparando colunas sobre tipo de internação</h3>"
   ]
  },
  {
   "cell_type": "markdown",
   "metadata": {},
   "source": [
    "<p>Para não usar três colunas na minha previsão, eu sintetizei elas em um única usando um sistema de código</p>"
   ]
  },
  {
   "cell_type": "code",
   "execution_count": 63,
   "metadata": {},
   "outputs": [],
   "source": [
    "patient_addmited_type = []\n",
    "for i in df.index:\n",
    "    code = str(df['Patient addmited to intensive care unit (1=yes, 0=no)'][i]) + str(df['Patient addmited to regular ward (1=yes, 0=no)'][i]) + str(df['Patient addmited to semi-intensive unit (1=yes, 0=no)'][i])\n",
    "    if code == '000':\n",
    "        patient_addmited_type.append(0)\n",
    "    elif code == '100':\n",
    "        patient_addmited_type.append(3)\n",
    "    elif code == '010':\n",
    "        patient_addmited_type.append(1)\n",
    "    elif code == '001':\n",
    "        patient_addmited_type.append(2)\n",
    "df['Patient addmited type'] = patient_addmited_type"
   ]
  },
  {
   "cell_type": "code",
   "execution_count": 64,
   "metadata": {},
   "outputs": [
    {
     "data": {
      "text/html": [
       "<div>\n",
       "<style scoped>\n",
       "    .dataframe tbody tr th:only-of-type {\n",
       "        vertical-align: middle;\n",
       "    }\n",
       "\n",
       "    .dataframe tbody tr th {\n",
       "        vertical-align: top;\n",
       "    }\n",
       "\n",
       "    .dataframe thead th {\n",
       "        text-align: right;\n",
       "    }\n",
       "</style>\n",
       "<table border=\"1\" class=\"dataframe\">\n",
       "  <thead>\n",
       "    <tr style=\"text-align: right;\">\n",
       "      <th></th>\n",
       "      <th>Patient ID</th>\n",
       "      <th>Patient age quantile_13.0</th>\n",
       "      <th>Patient age quantile_17.0</th>\n",
       "      <th>Patient age quantile_8.0</th>\n",
       "      <th>Patient age quantile_5.0</th>\n",
       "      <th>Patient age quantile_15.0</th>\n",
       "      <th>Patient age quantile_9.0</th>\n",
       "      <th>Patient age quantile_16.0</th>\n",
       "      <th>Patient age quantile_1.0</th>\n",
       "      <th>Patient age quantile_14.0</th>\n",
       "      <th>...</th>\n",
       "      <th>Total CO2 (arterial blood gas analysis)</th>\n",
       "      <th>HCO3 (arterial blood gas analysis)</th>\n",
       "      <th>pO2 (arterial blood gas analysis)</th>\n",
       "      <th>Arteiral Fio2</th>\n",
       "      <th>Phosphor</th>\n",
       "      <th>ctO2 (arterial blood gas analysis)</th>\n",
       "      <th>Influenza</th>\n",
       "      <th>Parainfluenza</th>\n",
       "      <th>Coronavirus</th>\n",
       "      <th>Patient addmited type</th>\n",
       "    </tr>\n",
       "  </thead>\n",
       "  <tbody>\n",
       "    <tr>\n",
       "      <td>0</td>\n",
       "      <td>44477f75e8169d2</td>\n",
       "      <td>1</td>\n",
       "      <td>0</td>\n",
       "      <td>0</td>\n",
       "      <td>0</td>\n",
       "      <td>0</td>\n",
       "      <td>0</td>\n",
       "      <td>0</td>\n",
       "      <td>0</td>\n",
       "      <td>0</td>\n",
       "      <td>...</td>\n",
       "      <td>0.077435</td>\n",
       "      <td>0.056332</td>\n",
       "      <td>-0.159955</td>\n",
       "      <td>-0.011744</td>\n",
       "      <td>-0.138182</td>\n",
       "      <td>0.182693</td>\n",
       "      <td>0</td>\n",
       "      <td>0</td>\n",
       "      <td>0</td>\n",
       "      <td>0</td>\n",
       "    </tr>\n",
       "    <tr>\n",
       "      <td>1</td>\n",
       "      <td>126e9dd13932f68</td>\n",
       "      <td>0</td>\n",
       "      <td>1</td>\n",
       "      <td>0</td>\n",
       "      <td>0</td>\n",
       "      <td>0</td>\n",
       "      <td>0</td>\n",
       "      <td>0</td>\n",
       "      <td>0</td>\n",
       "      <td>0</td>\n",
       "      <td>...</td>\n",
       "      <td>0.077435</td>\n",
       "      <td>0.056332</td>\n",
       "      <td>-0.159955</td>\n",
       "      <td>-0.011744</td>\n",
       "      <td>-0.138182</td>\n",
       "      <td>0.182693</td>\n",
       "      <td>0</td>\n",
       "      <td>0</td>\n",
       "      <td>0</td>\n",
       "      <td>0</td>\n",
       "    </tr>\n",
       "    <tr>\n",
       "      <td>2</td>\n",
       "      <td>a46b4402a0e5696</td>\n",
       "      <td>0</td>\n",
       "      <td>0</td>\n",
       "      <td>1</td>\n",
       "      <td>0</td>\n",
       "      <td>0</td>\n",
       "      <td>0</td>\n",
       "      <td>0</td>\n",
       "      <td>0</td>\n",
       "      <td>0</td>\n",
       "      <td>...</td>\n",
       "      <td>0.077435</td>\n",
       "      <td>0.056332</td>\n",
       "      <td>-0.159955</td>\n",
       "      <td>-0.011744</td>\n",
       "      <td>-0.138182</td>\n",
       "      <td>0.182693</td>\n",
       "      <td>0</td>\n",
       "      <td>0</td>\n",
       "      <td>0</td>\n",
       "      <td>0</td>\n",
       "    </tr>\n",
       "    <tr>\n",
       "      <td>3</td>\n",
       "      <td>f7d619a94f97c45</td>\n",
       "      <td>0</td>\n",
       "      <td>0</td>\n",
       "      <td>0</td>\n",
       "      <td>1</td>\n",
       "      <td>0</td>\n",
       "      <td>0</td>\n",
       "      <td>0</td>\n",
       "      <td>0</td>\n",
       "      <td>0</td>\n",
       "      <td>...</td>\n",
       "      <td>0.077435</td>\n",
       "      <td>0.056332</td>\n",
       "      <td>-0.159955</td>\n",
       "      <td>-0.011744</td>\n",
       "      <td>-0.138182</td>\n",
       "      <td>0.182693</td>\n",
       "      <td>0</td>\n",
       "      <td>0</td>\n",
       "      <td>0</td>\n",
       "      <td>0</td>\n",
       "    </tr>\n",
       "    <tr>\n",
       "      <td>4</td>\n",
       "      <td>d9e41465789c2b5</td>\n",
       "      <td>0</td>\n",
       "      <td>0</td>\n",
       "      <td>0</td>\n",
       "      <td>0</td>\n",
       "      <td>1</td>\n",
       "      <td>0</td>\n",
       "      <td>0</td>\n",
       "      <td>0</td>\n",
       "      <td>0</td>\n",
       "      <td>...</td>\n",
       "      <td>0.077435</td>\n",
       "      <td>0.056332</td>\n",
       "      <td>-0.159955</td>\n",
       "      <td>-0.011744</td>\n",
       "      <td>-0.138182</td>\n",
       "      <td>0.182693</td>\n",
       "      <td>0</td>\n",
       "      <td>0</td>\n",
       "      <td>0</td>\n",
       "      <td>0</td>\n",
       "    </tr>\n",
       "  </tbody>\n",
       "</table>\n",
       "<p>5 rows × 118 columns</p>\n",
       "</div>"
      ],
      "text/plain": [
       "        Patient ID  Patient age quantile_13.0  Patient age quantile_17.0  \\\n",
       "0  44477f75e8169d2                          1                          0   \n",
       "1  126e9dd13932f68                          0                          1   \n",
       "2  a46b4402a0e5696                          0                          0   \n",
       "3  f7d619a94f97c45                          0                          0   \n",
       "4  d9e41465789c2b5                          0                          0   \n",
       "\n",
       "   Patient age quantile_8.0  Patient age quantile_5.0  \\\n",
       "0                         0                         0   \n",
       "1                         0                         0   \n",
       "2                         1                         0   \n",
       "3                         0                         1   \n",
       "4                         0                         0   \n",
       "\n",
       "   Patient age quantile_15.0  Patient age quantile_9.0  \\\n",
       "0                          0                         0   \n",
       "1                          0                         0   \n",
       "2                          0                         0   \n",
       "3                          0                         0   \n",
       "4                          1                         0   \n",
       "\n",
       "   Patient age quantile_16.0  Patient age quantile_1.0  \\\n",
       "0                          0                         0   \n",
       "1                          0                         0   \n",
       "2                          0                         0   \n",
       "3                          0                         0   \n",
       "4                          0                         0   \n",
       "\n",
       "   Patient age quantile_14.0  ...  Total CO2 (arterial blood gas analysis)  \\\n",
       "0                          0  ...                                 0.077435   \n",
       "1                          0  ...                                 0.077435   \n",
       "2                          0  ...                                 0.077435   \n",
       "3                          0  ...                                 0.077435   \n",
       "4                          0  ...                                 0.077435   \n",
       "\n",
       "   HCO3 (arterial blood gas analysis)  pO2 (arterial blood gas analysis)  \\\n",
       "0                            0.056332                          -0.159955   \n",
       "1                            0.056332                          -0.159955   \n",
       "2                            0.056332                          -0.159955   \n",
       "3                            0.056332                          -0.159955   \n",
       "4                            0.056332                          -0.159955   \n",
       "\n",
       "   Arteiral Fio2  Phosphor  ctO2 (arterial blood gas analysis)  Influenza  \\\n",
       "0      -0.011744 -0.138182                            0.182693          0   \n",
       "1      -0.011744 -0.138182                            0.182693          0   \n",
       "2      -0.011744 -0.138182                            0.182693          0   \n",
       "3      -0.011744 -0.138182                            0.182693          0   \n",
       "4      -0.011744 -0.138182                            0.182693          0   \n",
       "\n",
       "   Parainfluenza  Coronavirus  Patient addmited type  \n",
       "0              0            0                      0  \n",
       "1              0            0                      0  \n",
       "2              0            0                      0  \n",
       "3              0            0                      0  \n",
       "4              0            0                      0  \n",
       "\n",
       "[5 rows x 118 columns]"
      ]
     },
     "execution_count": 64,
     "metadata": {},
     "output_type": "execute_result"
    }
   ],
   "source": [
    "df = df.drop(['Patient addmited to intensive care unit (1=yes, 0=no)',\n",
    "             'Patient addmited to regular ward (1=yes, 0=no)',\n",
    "             'Patient addmited to semi-intensive unit (1=yes, 0=no)'], axis=1)\n",
    "df.head()"
   ]
  },
  {
   "cell_type": "code",
   "execution_count": 65,
   "metadata": {},
   "outputs": [],
   "source": [
    "X_2 = df.drop(['Patient ID','Patient addmited type'], axis=1)\n",
    "y_2 = df['Patient addmited type']\n",
    "X_train_2, X_test_2, y_train_2, y_test_2 = train_test_split(X_2,y_2,test_size=0.2,random_state=42)"
   ]
  },
  {
   "cell_type": "code",
   "execution_count": 70,
   "metadata": {},
   "outputs": [
    {
     "name": "stdout",
     "output_type": "stream",
     "text": [
      "accuracy: 0.7697077059344553\n",
      "f1_score: 0.30162920409230315\n"
     ]
    }
   ],
   "source": [
    "rf2 = RandomForestClassifier(max_depth=5, random_state=42,n_estimators=100,class_weight = 'balanced')\n",
    "rf2.fit(X_train_2,y_train_2)\n",
    "y_pred_rf_2 = rf2.predict(X_test_2)\n",
    "print('accuracy:' , accuracy_score(y_pred_rf_2,y_test_2))\n",
    "print('f1_score:' , f1_score(y_pred_rf_2,y_test_2,average='weighted'))"
   ]
  },
  {
   "cell_type": "code",
   "execution_count": 67,
   "metadata": {},
   "outputs": [
    {
     "name": "stdout",
     "output_type": "stream",
     "text": [
      "f1_score: 0.24560612888688596\n",
      "accuracy: 0.9654561558901683\n"
     ]
    },
    {
     "name": "stderr",
     "output_type": "stream",
     "text": [
      "C:\\ProgramData\\Anaconda3\\lib\\site-packages\\sklearn\\metrics\\classification.py:1439: UndefinedMetricWarning: F-score is ill-defined and being set to 0.0 in labels with no true samples.\n",
      "  'recall', 'true', average, warn_for)\n"
     ]
    }
   ],
   "source": [
    "svc2 = SVC(gamma='auto',random_state=42)\n",
    "svc2.fit(X_train_2, y_train_2)\n",
    "y_pred_svc_2 = svc2.predict(X_test_2)\n",
    "print('f1_score:' , f1_score(y_pred_svc_2,y_test_2,average='weighted'))\n",
    "print('accuracy:' , accuracy_score(y_pred_svc_2,y_test_2))"
   ]
  },
  {
   "cell_type": "code",
   "execution_count": 69,
   "metadata": {},
   "outputs": [
    {
     "name": "stdout",
     "output_type": "stream",
     "text": [
      "f1_score: 0.33015728977616454\n",
      "accuracy: 0.9672276350752879\n"
     ]
    }
   ],
   "source": [
    "xgboost2 = xgb.XGBClassifier(learning_rate = 0.2\n",
    "                            ,max_depth = 5\n",
    "                            ,colsample_bytree = 0.9\n",
    "                            ,n_estimators = 100\n",
    "                            ,random_state=42\n",
    "                            ,class_weight='balanced'\n",
    "                           )\n",
    "\n",
    "xgboost2.fit(X_train_2,y_train_2)\n",
    "y_pred_xg_2 = xgboost2.predict(X_test_2)\n",
    "print('f1_score:' , f1_score(y_pred_xg_2,y_test_2,average='weighted'))\n",
    "print('accuracy:' , accuracy_score(y_pred_xg_2,y_test_2))"
   ]
  },
  {
   "cell_type": "code",
   "execution_count": null,
   "metadata": {},
   "outputs": [],
   "source": []
  }
 ],
 "metadata": {
  "kernelspec": {
   "display_name": "Python 3",
   "language": "python",
   "name": "python3"
  },
  "language_info": {
   "codemirror_mode": {
    "name": "ipython",
    "version": 3
   },
   "file_extension": ".py",
   "mimetype": "text/x-python",
   "name": "python",
   "nbconvert_exporter": "python",
   "pygments_lexer": "ipython3",
   "version": "3.7.4"
  }
 },
 "nbformat": 4,
 "nbformat_minor": 2
}
